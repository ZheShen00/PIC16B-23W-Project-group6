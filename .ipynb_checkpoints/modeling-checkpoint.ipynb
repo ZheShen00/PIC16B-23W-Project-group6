{
 "cells": [
  {
   "cell_type": "markdown",
   "id": "6e51765a",
   "metadata": {},
   "source": [
    "# Prject(Group 6) Prediction of Movies' Performance based on IMDb data\n",
    "\n",
    "## ——Visualization and Exploratory data analysis"
   ]
  },
  {
   "cell_type": "code",
   "execution_count": 2,
   "id": "a6fc7083",
   "metadata": {},
   "outputs": [],
   "source": [
    "import pandas as pd\n",
    "import sqlite3\n",
    "import numpy as np\n",
    "import matplotlib.pyplot as plt\n",
    "import seaborn as sns"
   ]
  },
  {
   "cell_type": "markdown",
   "id": "2e1a8a85",
   "metadata": {},
   "source": [
    "## Checking the dataframe and choosing features\n",
    "First, we import the cleaned dataset. The whole dataset has 12 features as well as over 400,000 movie data."
   ]
  },
  {
   "cell_type": "code",
   "execution_count": 3,
   "id": "4630cdc1",
   "metadata": {},
   "outputs": [
    {
     "data": {
      "text/html": [
       "<div>\n",
       "<style scoped>\n",
       "    .dataframe tbody tr th:only-of-type {\n",
       "        vertical-align: middle;\n",
       "    }\n",
       "\n",
       "    .dataframe tbody tr th {\n",
       "        vertical-align: top;\n",
       "    }\n",
       "\n",
       "    .dataframe thead th {\n",
       "        text-align: right;\n",
       "    }\n",
       "</style>\n",
       "<table border=\"1\" class=\"dataframe\">\n",
       "  <thead>\n",
       "    <tr style=\"text-align: right;\">\n",
       "      <th></th>\n",
       "      <th>Unnamed: 0</th>\n",
       "      <th>tconst</th>\n",
       "      <th>nconst</th>\n",
       "      <th>category</th>\n",
       "      <th>averageRating</th>\n",
       "      <th>numVotes</th>\n",
       "      <th>primaryTitle</th>\n",
       "      <th>isAdult</th>\n",
       "      <th>startYear</th>\n",
       "      <th>runtimeMinutes</th>\n",
       "      <th>genres</th>\n",
       "      <th>primaryName</th>\n",
       "    </tr>\n",
       "  </thead>\n",
       "  <tbody>\n",
       "    <tr>\n",
       "      <th>0</th>\n",
       "      <td>92759</td>\n",
       "      <td>tt0013274</td>\n",
       "      <td>nm0412842</td>\n",
       "      <td>director</td>\n",
       "      <td>6.7</td>\n",
       "      <td>48</td>\n",
       "      <td>Istoriya grazhdanskoy voyny</td>\n",
       "      <td>0</td>\n",
       "      <td>2021</td>\n",
       "      <td>133</td>\n",
       "      <td>Documentary</td>\n",
       "      <td>Nikolai Izvolov</td>\n",
       "    </tr>\n",
       "    <tr>\n",
       "      <th>1</th>\n",
       "      <td>92760</td>\n",
       "      <td>tt0013274</td>\n",
       "      <td>nm0895048</td>\n",
       "      <td>director</td>\n",
       "      <td>6.7</td>\n",
       "      <td>48</td>\n",
       "      <td>Istoriya grazhdanskoy voyny</td>\n",
       "      <td>0</td>\n",
       "      <td>2021</td>\n",
       "      <td>133</td>\n",
       "      <td>Documentary</td>\n",
       "      <td>Dziga Vertov</td>\n",
       "    </tr>\n",
       "    <tr>\n",
       "      <th>2</th>\n",
       "      <td>522892</td>\n",
       "      <td>tt0062336</td>\n",
       "      <td>nm0815612</td>\n",
       "      <td>actor</td>\n",
       "      <td>6.4</td>\n",
       "      <td>164</td>\n",
       "      <td>The Tango of the Widower and Its Distorting Mi...</td>\n",
       "      <td>0</td>\n",
       "      <td>2020</td>\n",
       "      <td>70</td>\n",
       "      <td>Drama</td>\n",
       "      <td>Rubén Sotoconil</td>\n",
       "    </tr>\n",
       "    <tr>\n",
       "      <th>3</th>\n",
       "      <td>522893</td>\n",
       "      <td>tt0062336</td>\n",
       "      <td>nm1860495</td>\n",
       "      <td>actress</td>\n",
       "      <td>6.4</td>\n",
       "      <td>164</td>\n",
       "      <td>The Tango of the Widower and Its Distorting Mi...</td>\n",
       "      <td>0</td>\n",
       "      <td>2020</td>\n",
       "      <td>70</td>\n",
       "      <td>Drama</td>\n",
       "      <td>Claudia Paz</td>\n",
       "    </tr>\n",
       "    <tr>\n",
       "      <th>4</th>\n",
       "      <td>522894</td>\n",
       "      <td>tt0062336</td>\n",
       "      <td>nm0016013</td>\n",
       "      <td>actor</td>\n",
       "      <td>6.4</td>\n",
       "      <td>164</td>\n",
       "      <td>The Tango of the Widower and Its Distorting Mi...</td>\n",
       "      <td>0</td>\n",
       "      <td>2020</td>\n",
       "      <td>70</td>\n",
       "      <td>Drama</td>\n",
       "      <td>Luis Alarcón</td>\n",
       "    </tr>\n",
       "    <tr>\n",
       "      <th>...</th>\n",
       "      <td>...</td>\n",
       "      <td>...</td>\n",
       "      <td>...</td>\n",
       "      <td>...</td>\n",
       "      <td>...</td>\n",
       "      <td>...</td>\n",
       "      <td>...</td>\n",
       "      <td>...</td>\n",
       "      <td>...</td>\n",
       "      <td>...</td>\n",
       "      <td>...</td>\n",
       "      <td>...</td>\n",
       "    </tr>\n",
       "    <tr>\n",
       "      <th>404310</th>\n",
       "      <td>54610727</td>\n",
       "      <td>tt9916730</td>\n",
       "      <td>nm6096005</td>\n",
       "      <td>actor</td>\n",
       "      <td>8.3</td>\n",
       "      <td>10</td>\n",
       "      <td>6 Gunn</td>\n",
       "      <td>0</td>\n",
       "      <td>2017</td>\n",
       "      <td>116</td>\n",
       "      <td>\\N</td>\n",
       "      <td>Devadhar Archit</td>\n",
       "    </tr>\n",
       "    <tr>\n",
       "      <th>404311</th>\n",
       "      <td>54610728</td>\n",
       "      <td>tt9916730</td>\n",
       "      <td>nm0059461</td>\n",
       "      <td>actor</td>\n",
       "      <td>8.3</td>\n",
       "      <td>10</td>\n",
       "      <td>6 Gunn</td>\n",
       "      <td>0</td>\n",
       "      <td>2017</td>\n",
       "      <td>116</td>\n",
       "      <td>\\N</td>\n",
       "      <td>Sunil Barve</td>\n",
       "    </tr>\n",
       "    <tr>\n",
       "      <th>404312</th>\n",
       "      <td>54610729</td>\n",
       "      <td>tt9916730</td>\n",
       "      <td>nm13233318</td>\n",
       "      <td>actor</td>\n",
       "      <td>8.3</td>\n",
       "      <td>10</td>\n",
       "      <td>6 Gunn</td>\n",
       "      <td>0</td>\n",
       "      <td>2017</td>\n",
       "      <td>116</td>\n",
       "      <td>\\N</td>\n",
       "      <td>Ganesh Vasant Patil</td>\n",
       "    </tr>\n",
       "    <tr>\n",
       "      <th>404313</th>\n",
       "      <td>54610730</td>\n",
       "      <td>tt9916730</td>\n",
       "      <td>nm4852679</td>\n",
       "      <td>actor</td>\n",
       "      <td>8.3</td>\n",
       "      <td>10</td>\n",
       "      <td>6 Gunn</td>\n",
       "      <td>0</td>\n",
       "      <td>2017</td>\n",
       "      <td>116</td>\n",
       "      <td>\\N</td>\n",
       "      <td>Bhushan Pradhan</td>\n",
       "    </tr>\n",
       "    <tr>\n",
       "      <th>404314</th>\n",
       "      <td>54610731</td>\n",
       "      <td>tt9916730</td>\n",
       "      <td>nm10538612</td>\n",
       "      <td>director</td>\n",
       "      <td>8.3</td>\n",
       "      <td>10</td>\n",
       "      <td>6 Gunn</td>\n",
       "      <td>0</td>\n",
       "      <td>2017</td>\n",
       "      <td>116</td>\n",
       "      <td>\\N</td>\n",
       "      <td>Kiran Gawade</td>\n",
       "    </tr>\n",
       "  </tbody>\n",
       "</table>\n",
       "<p>404315 rows × 12 columns</p>\n",
       "</div>"
      ],
      "text/plain": [
       "        Unnamed: 0     tconst      nconst  category  averageRating  numVotes  \\\n",
       "0            92759  tt0013274   nm0412842  director            6.7        48   \n",
       "1            92760  tt0013274   nm0895048  director            6.7        48   \n",
       "2           522892  tt0062336   nm0815612     actor            6.4       164   \n",
       "3           522893  tt0062336   nm1860495   actress            6.4       164   \n",
       "4           522894  tt0062336   nm0016013     actor            6.4       164   \n",
       "...            ...        ...         ...       ...            ...       ...   \n",
       "404310    54610727  tt9916730   nm6096005     actor            8.3        10   \n",
       "404311    54610728  tt9916730   nm0059461     actor            8.3        10   \n",
       "404312    54610729  tt9916730  nm13233318     actor            8.3        10   \n",
       "404313    54610730  tt9916730   nm4852679     actor            8.3        10   \n",
       "404314    54610731  tt9916730  nm10538612  director            8.3        10   \n",
       "\n",
       "                                             primaryTitle  isAdult  startYear  \\\n",
       "0                             Istoriya grazhdanskoy voyny        0       2021   \n",
       "1                             Istoriya grazhdanskoy voyny        0       2021   \n",
       "2       The Tango of the Widower and Its Distorting Mi...        0       2020   \n",
       "3       The Tango of the Widower and Its Distorting Mi...        0       2020   \n",
       "4       The Tango of the Widower and Its Distorting Mi...        0       2020   \n",
       "...                                                   ...      ...        ...   \n",
       "404310                                             6 Gunn        0       2017   \n",
       "404311                                             6 Gunn        0       2017   \n",
       "404312                                             6 Gunn        0       2017   \n",
       "404313                                             6 Gunn        0       2017   \n",
       "404314                                             6 Gunn        0       2017   \n",
       "\n",
       "       runtimeMinutes       genres          primaryName  \n",
       "0                 133  Documentary      Nikolai Izvolov  \n",
       "1                 133  Documentary         Dziga Vertov  \n",
       "2                  70        Drama      Rubén Sotoconil  \n",
       "3                  70        Drama          Claudia Paz  \n",
       "4                  70        Drama         Luis Alarcón  \n",
       "...               ...          ...                  ...  \n",
       "404310            116           \\N      Devadhar Archit  \n",
       "404311            116           \\N          Sunil Barve  \n",
       "404312            116           \\N  Ganesh Vasant Patil  \n",
       "404313            116           \\N      Bhushan Pradhan  \n",
       "404314            116           \\N         Kiran Gawade  \n",
       "\n",
       "[404315 rows x 12 columns]"
      ]
     },
     "execution_count": 3,
     "metadata": {},
     "output_type": "execute_result"
    }
   ],
   "source": [
    "imdb = pd.read_csv('imdb.csv')\n",
    "imdb"
   ]
  },
  {
   "cell_type": "markdown",
   "id": "5f3c374c",
   "metadata": {},
   "source": [
    "In our program, ratings are the most important indicator of a film's popularity. So we can start by looking at the specific data of the ratings."
   ]
  },
  {
   "cell_type": "code",
   "execution_count": 4,
   "id": "c97cc541",
   "metadata": {},
   "outputs": [
    {
     "data": {
      "text/plain": [
       "count    404315.000000\n",
       "mean          6.057180\n",
       "std           1.522904\n",
       "min           1.000000\n",
       "25%           5.100000\n",
       "50%           6.200000\n",
       "75%           7.100000\n",
       "max          10.000000\n",
       "Name: averageRating, dtype: float64"
      ]
     },
     "execution_count": 4,
     "metadata": {},
     "output_type": "execute_result"
    }
   ],
   "source": [
    "imdb.averageRating.describe()"
   ]
  },
  {
   "cell_type": "markdown",
   "id": "8d60f64f",
   "metadata": {},
   "source": [
    "In our data set, we can see that the average rating is around 6.0 and the median is 6.2. And most scores are between 5.1 and 7.1. This will affect our next specific rating of the movie's popularity. For now, we will make the following scale of popularity: \n",
    "- Very Positive(>7.1)\n",
    "- Mostly Positive(6.0-7.1)\n",
    "- Mostly nagative(5.1-6.0)\n",
    "- Very Nagative(<5.1)\n",
    "\n",
    "Then, let's explore which factors are strongly correlated with the scores, which will greatly help our machine learning model to make predictions:"
   ]
  },
  {
   "cell_type": "code",
   "execution_count": 5,
   "id": "74624ad7",
   "metadata": {},
   "outputs": [
    {
     "data": {
      "text/plain": [
       "['Unnamed: 0',\n",
       " 'tconst',\n",
       " 'nconst',\n",
       " 'category',\n",
       " 'averageRating',\n",
       " 'numVotes',\n",
       " 'primaryTitle',\n",
       " 'isAdult',\n",
       " 'startYear',\n",
       " 'runtimeMinutes',\n",
       " 'genres',\n",
       " 'primaryName']"
      ]
     },
     "execution_count": 5,
     "metadata": {},
     "output_type": "execute_result"
    }
   ],
   "source": [
    "# Check how many factors our data set have\n",
    "imdb.columns.values.tolist()"
   ]
  },
  {
   "cell_type": "markdown",
   "id": "c9b1fa1e",
   "metadata": {},
   "source": [
    "It can be clearly observed that the first 3 factors are only the number of the movie or the actor/director. So we can exclude these 3 between them.It can be clearly observed that the first 3 factors are only the number of the movie or the actor/director. So we can exclude these 3 between. And averageRating, numVotes, isAdult, startYear and runtimeMinutes are very good quantifiable data. genres would also be one of the factors that could have a significant impact. So we will analyze these factors next.\n",
    "\n",
    "First is the distribution of average rating"
   ]
  },
  {
   "cell_type": "code",
   "execution_count": 6,
   "id": "4454eb0c",
   "metadata": {},
   "outputs": [
    {
     "data": {
      "text/plain": [
       "Text(0.5, 1.0, 'The distribution of  average rating')"
      ]
     },
     "execution_count": 6,
     "metadata": {},
     "output_type": "execute_result"
    },
    {
     "data": {
      "image/png": "[encoded data removed]",
      "text/plain": [
       "<Figure size 864x432 with 1 Axes>"
      ]
     },
     "metadata": {
      "needs_background": "light"
     },
     "output_type": "display_data"
    }
   ],
   "source": [
    "#评分的分布情况\n",
    "plt.figure(figsize=(12, 6))\n",
    "sns.kdeplot(imdb['averageRating'])\n",
    "plt.title('The distribution of  average rating', fontsize=20, weight='bold', color='black')"
   ]
  },
  {
   "cell_type": "markdown",
   "id": "c3e22b68",
   "metadata": {},
   "source": [
    "## The relationship of ratings and other element\n"
   ]
  },
  {
   "cell_type": "code",
   "execution_count": 7,
   "id": "f22ed3f1",
   "metadata": {},
   "outputs": [
    {
     "data": {
      "image/png": "[encoded data removed]",
      "text/plain": [
       "<Figure size 720x576 with 1 Axes>"
      ]
     },
     "metadata": {
      "needs_background": "light"
     },
     "output_type": "display_data"
    }
   ],
   "source": [
    "plt.figure(figsize=(10, 8))\n",
    "plt.scatter(imdb['numVotes'], imdb['averageRating'], s=10, c='red')\n",
    "plt.title('a', fontsize=16, weight='bold')\n",
    "plt.show()"
   ]
  },
  {
   "cell_type": "markdown",
   "id": "fdaa83c2",
   "metadata": {},
   "source": [
    "Regarding the relationship between the number of votes and the ratings, the scatterplot presents an uncorrelated feature. However, we can observe that a large number of votes occurs around a rating of 8.0. This means that good movies are more likely to receive a large number of ratings. But the number of votes is statistically uncorrelated for ratings."
   ]
  },
  {
   "cell_type": "code",
   "execution_count": 8,
   "id": "8db97c2c",
   "metadata": {},
   "outputs": [
    {
     "data": {
      "image/png": "[encoded data removed]",
      "text/plain": [
       "<Figure size 576x576 with 1 Axes>"
      ]
     },
     "metadata": {
      "needs_background": "light"
     },
     "output_type": "display_data"
    }
   ],
   "source": [
    "plt.figure(figsize=(8, 8))\n",
    "sns.boxplot(x=\"isAdult\", y=\"averageRating\", data=imdb, linewidth=1.5)\n",
    "plt.title('The distribution of Rating and Aldut/Not Aldut',fontsize=20, weight='bold')\n",
    "plt.show()"
   ]
  },
  {
   "cell_type": "markdown",
   "id": "4b8f7a91",
   "metadata": {},
   "source": [
    "boxplot shows that whether a movie is adult-rated or not makes big difference in terms of rating. But not adult movie got higher mean value, so when we doing the machine learning model, this factor would be considered"
   ]
  },
  {
   "cell_type": "code",
   "execution_count": 9,
   "id": "7f878ec3",
   "metadata": {},
   "outputs": [
    {
     "data": {
      "text/plain": [
       "<Axes: title={'center': 'The distribution of film release year'}>"
      ]
     },
     "execution_count": 9,
     "metadata": {},
     "output_type": "execute_result"
    },
    {
     "data": {
      "image/png": "[encoded data removed]",
      "text/plain": [
       "<Figure size 720x432 with 1 Axes>"
      ]
     },
     "metadata": {
      "needs_background": "light"
     },
     "output_type": "display_data"
    }
   ],
   "source": [
    "df = imdb.startYear.value_counts()\n",
    "x = [i for i in df.keys()]\n",
    "y = []\n",
    "for i in range(0,11):\n",
    "    y.append(df.values[i])\n",
    "plt.figure(figsize=(10, 6))\n",
    "plt.title('The distribution of film release year', fontsize=20, weight='bold')\n",
    "sns.barplot(x=x, y=y)"
   ]
  },
  {
   "cell_type": "code",
   "execution_count": 10,
   "id": "60aa22eb",
   "metadata": {},
   "outputs": [
    {
     "data": {
      "image/png": "[encoded data removed]",
      "text/plain": [
       "<Figure size 1440x576 with 1 Axes>"
      ]
     },
     "metadata": {
      "needs_background": "light"
     },
     "output_type": "display_data"
    }
   ],
   "source": [
    "plt.figure(figsize=(20, 8))\n",
    "sns.boxplot(x=\"startYear\", y=\"averageRating\", data=imdb, linewidth=1.5)\n",
    "plt.title('The distribution of Rating and release year',fontsize=20, weight='bold')\n",
    "plt.show()"
   ]
  },
  {
   "cell_type": "markdown",
   "id": "c455a9ea",
   "metadata": {},
   "source": [
    "We can see that people generally have better ratings for new movies released after 2021. Despite the huge impact of the pandemic on the movie industry in 2020 resulting in a drop in the number of releases, we still have 35,000 data per year(except 2023), so it is still a valid conclusion that the newer the movie, the more likely it is to receive a high rating."
   ]
  },
  {
   "cell_type": "code",
   "execution_count": 11,
   "id": "52c8fde4",
   "metadata": {},
   "outputs": [
    {
     "data": {
      "text/html": [
       "<div>\n",
       "<style scoped>\n",
       "    .dataframe tbody tr th:only-of-type {\n",
       "        vertical-align: middle;\n",
       "    }\n",
       "\n",
       "    .dataframe tbody tr th {\n",
       "        vertical-align: top;\n",
       "    }\n",
       "\n",
       "    .dataframe thead th {\n",
       "        text-align: right;\n",
       "    }\n",
       "</style>\n",
       "<table border=\"1\" class=\"dataframe\">\n",
       "  <thead>\n",
       "    <tr style=\"text-align: right;\">\n",
       "      <th></th>\n",
       "      <th>Unnamed: 0</th>\n",
       "      <th>tconst</th>\n",
       "      <th>nconst</th>\n",
       "      <th>category</th>\n",
       "      <th>averageRating</th>\n",
       "      <th>numVotes</th>\n",
       "      <th>primaryTitle</th>\n",
       "      <th>isAdult</th>\n",
       "      <th>startYear</th>\n",
       "      <th>runtimeMinutes</th>\n",
       "      <th>primaryName</th>\n",
       "      <th>genres</th>\n",
       "    </tr>\n",
       "  </thead>\n",
       "  <tbody>\n",
       "    <tr>\n",
       "      <th>0</th>\n",
       "      <td>92759</td>\n",
       "      <td>tt0013274</td>\n",
       "      <td>nm0412842</td>\n",
       "      <td>director</td>\n",
       "      <td>6.7</td>\n",
       "      <td>48</td>\n",
       "      <td>Istoriya grazhdanskoy voyny</td>\n",
       "      <td>0</td>\n",
       "      <td>2021</td>\n",
       "      <td>133</td>\n",
       "      <td>Nikolai Izvolov</td>\n",
       "      <td>Documentary</td>\n",
       "    </tr>\n",
       "    <tr>\n",
       "      <th>1</th>\n",
       "      <td>92760</td>\n",
       "      <td>tt0013274</td>\n",
       "      <td>nm0895048</td>\n",
       "      <td>director</td>\n",
       "      <td>6.7</td>\n",
       "      <td>48</td>\n",
       "      <td>Istoriya grazhdanskoy voyny</td>\n",
       "      <td>0</td>\n",
       "      <td>2021</td>\n",
       "      <td>133</td>\n",
       "      <td>Dziga Vertov</td>\n",
       "      <td>Documentary</td>\n",
       "    </tr>\n",
       "    <tr>\n",
       "      <th>2</th>\n",
       "      <td>522892</td>\n",
       "      <td>tt0062336</td>\n",
       "      <td>nm0815612</td>\n",
       "      <td>actor</td>\n",
       "      <td>6.4</td>\n",
       "      <td>164</td>\n",
       "      <td>The Tango of the Widower and Its Distorting Mi...</td>\n",
       "      <td>0</td>\n",
       "      <td>2020</td>\n",
       "      <td>70</td>\n",
       "      <td>Rubén Sotoconil</td>\n",
       "      <td>Drama</td>\n",
       "    </tr>\n",
       "    <tr>\n",
       "      <th>3</th>\n",
       "      <td>522893</td>\n",
       "      <td>tt0062336</td>\n",
       "      <td>nm1860495</td>\n",
       "      <td>actress</td>\n",
       "      <td>6.4</td>\n",
       "      <td>164</td>\n",
       "      <td>The Tango of the Widower and Its Distorting Mi...</td>\n",
       "      <td>0</td>\n",
       "      <td>2020</td>\n",
       "      <td>70</td>\n",
       "      <td>Claudia Paz</td>\n",
       "      <td>Drama</td>\n",
       "    </tr>\n",
       "    <tr>\n",
       "      <th>4</th>\n",
       "      <td>522894</td>\n",
       "      <td>tt0062336</td>\n",
       "      <td>nm0016013</td>\n",
       "      <td>actor</td>\n",
       "      <td>6.4</td>\n",
       "      <td>164</td>\n",
       "      <td>The Tango of the Widower and Its Distorting Mi...</td>\n",
       "      <td>0</td>\n",
       "      <td>2020</td>\n",
       "      <td>70</td>\n",
       "      <td>Luis Alarcón</td>\n",
       "      <td>Drama</td>\n",
       "    </tr>\n",
       "    <tr>\n",
       "      <th>...</th>\n",
       "      <td>...</td>\n",
       "      <td>...</td>\n",
       "      <td>...</td>\n",
       "      <td>...</td>\n",
       "      <td>...</td>\n",
       "      <td>...</td>\n",
       "      <td>...</td>\n",
       "      <td>...</td>\n",
       "      <td>...</td>\n",
       "      <td>...</td>\n",
       "      <td>...</td>\n",
       "      <td>...</td>\n",
       "    </tr>\n",
       "    <tr>\n",
       "      <th>404310</th>\n",
       "      <td>54610727</td>\n",
       "      <td>tt9916730</td>\n",
       "      <td>nm6096005</td>\n",
       "      <td>actor</td>\n",
       "      <td>8.3</td>\n",
       "      <td>10</td>\n",
       "      <td>6 Gunn</td>\n",
       "      <td>0</td>\n",
       "      <td>2017</td>\n",
       "      <td>116</td>\n",
       "      <td>Devadhar Archit</td>\n",
       "      <td>\\N</td>\n",
       "    </tr>\n",
       "    <tr>\n",
       "      <th>404311</th>\n",
       "      <td>54610728</td>\n",
       "      <td>tt9916730</td>\n",
       "      <td>nm0059461</td>\n",
       "      <td>actor</td>\n",
       "      <td>8.3</td>\n",
       "      <td>10</td>\n",
       "      <td>6 Gunn</td>\n",
       "      <td>0</td>\n",
       "      <td>2017</td>\n",
       "      <td>116</td>\n",
       "      <td>Sunil Barve</td>\n",
       "      <td>\\N</td>\n",
       "    </tr>\n",
       "    <tr>\n",
       "      <th>404312</th>\n",
       "      <td>54610729</td>\n",
       "      <td>tt9916730</td>\n",
       "      <td>nm13233318</td>\n",
       "      <td>actor</td>\n",
       "      <td>8.3</td>\n",
       "      <td>10</td>\n",
       "      <td>6 Gunn</td>\n",
       "      <td>0</td>\n",
       "      <td>2017</td>\n",
       "      <td>116</td>\n",
       "      <td>Ganesh Vasant Patil</td>\n",
       "      <td>\\N</td>\n",
       "    </tr>\n",
       "    <tr>\n",
       "      <th>404313</th>\n",
       "      <td>54610730</td>\n",
       "      <td>tt9916730</td>\n",
       "      <td>nm4852679</td>\n",
       "      <td>actor</td>\n",
       "      <td>8.3</td>\n",
       "      <td>10</td>\n",
       "      <td>6 Gunn</td>\n",
       "      <td>0</td>\n",
       "      <td>2017</td>\n",
       "      <td>116</td>\n",
       "      <td>Bhushan Pradhan</td>\n",
       "      <td>\\N</td>\n",
       "    </tr>\n",
       "    <tr>\n",
       "      <th>404314</th>\n",
       "      <td>54610731</td>\n",
       "      <td>tt9916730</td>\n",
       "      <td>nm10538612</td>\n",
       "      <td>director</td>\n",
       "      <td>8.3</td>\n",
       "      <td>10</td>\n",
       "      <td>6 Gunn</td>\n",
       "      <td>0</td>\n",
       "      <td>2017</td>\n",
       "      <td>116</td>\n",
       "      <td>Kiran Gawade</td>\n",
       "      <td>\\N</td>\n",
       "    </tr>\n",
       "  </tbody>\n",
       "</table>\n",
       "<p>715617 rows × 12 columns</p>\n",
       "</div>"
      ],
      "text/plain": [
       "        Unnamed: 0     tconst      nconst  category  averageRating  numVotes  \\\n",
       "0            92759  tt0013274   nm0412842  director            6.7        48   \n",
       "1            92760  tt0013274   nm0895048  director            6.7        48   \n",
       "2           522892  tt0062336   nm0815612     actor            6.4       164   \n",
       "3           522893  tt0062336   nm1860495   actress            6.4       164   \n",
       "4           522894  tt0062336   nm0016013     actor            6.4       164   \n",
       "...            ...        ...         ...       ...            ...       ...   \n",
       "404310    54610727  tt9916730   nm6096005     actor            8.3        10   \n",
       "404311    54610728  tt9916730   nm0059461     actor            8.3        10   \n",
       "404312    54610729  tt9916730  nm13233318     actor            8.3        10   \n",
       "404313    54610730  tt9916730   nm4852679     actor            8.3        10   \n",
       "404314    54610731  tt9916730  nm10538612  director            8.3        10   \n",
       "\n",
       "                                             primaryTitle  isAdult  startYear  \\\n",
       "0                             Istoriya grazhdanskoy voyny        0       2021   \n",
       "1                             Istoriya grazhdanskoy voyny        0       2021   \n",
       "2       The Tango of the Widower and Its Distorting Mi...        0       2020   \n",
       "3       The Tango of the Widower and Its Distorting Mi...        0       2020   \n",
       "4       The Tango of the Widower and Its Distorting Mi...        0       2020   \n",
       "...                                                   ...      ...        ...   \n",
       "404310                                             6 Gunn        0       2017   \n",
       "404311                                             6 Gunn        0       2017   \n",
       "404312                                             6 Gunn        0       2017   \n",
       "404313                                             6 Gunn        0       2017   \n",
       "404314                                             6 Gunn        0       2017   \n",
       "\n",
       "       runtimeMinutes          primaryName       genres  \n",
       "0                 133      Nikolai Izvolov  Documentary  \n",
       "1                 133         Dziga Vertov  Documentary  \n",
       "2                  70      Rubén Sotoconil        Drama  \n",
       "3                  70          Claudia Paz        Drama  \n",
       "4                  70         Luis Alarcón        Drama  \n",
       "...               ...                  ...          ...  \n",
       "404310            116      Devadhar Archit           \\N  \n",
       "404311            116          Sunil Barve           \\N  \n",
       "404312            116  Ganesh Vasant Patil           \\N  \n",
       "404313            116      Bhushan Pradhan           \\N  \n",
       "404314            116         Kiran Gawade           \\N  \n",
       "\n",
       "[715617 rows x 12 columns]"
      ]
     },
     "execution_count": 11,
     "metadata": {},
     "output_type": "execute_result"
    }
   ],
   "source": [
    "df1 = imdb\n",
    "df1 = df1.drop(['genres'], axis=1).join(df1['genres'].str.split(',', expand=True).stack().reset_index(level=1, drop=True).rename('genres'))\n",
    "df1"
   ]
  },
  {
   "cell_type": "code",
   "execution_count": 12,
   "id": "24951365",
   "metadata": {},
   "outputs": [
    {
     "data": {
      "text/plain": [
       "<Axes: title={'center': 'The distribution of genres'}>"
      ]
     },
     "execution_count": 12,
     "metadata": {},
     "output_type": "execute_result"
    },
    {
     "data": {
      "image/png": "[encoded data removed]",
      "text/plain": [
       "<Figure size 1872x576 with 1 Axes>"
      ]
     },
     "metadata": {
      "needs_background": "light"
     },
     "output_type": "display_data"
    }
   ],
   "source": [
    "df2 = df1.genres.value_counts()\n",
    "x = [i for i in df2.keys()]\n",
    "y = []\n",
    "for i in range(0,28):\n",
    "    y.append(df2.values[i])\n",
    "plt.figure(figsize=(26, 8))\n",
    "plt.title('The distribution of genres', fontsize=30, weight='bold')\n",
    "sns.barplot(x=x, y=y)"
   ]
  },
  {
   "cell_type": "code",
   "execution_count": 13,
   "id": "05e087db",
   "metadata": {},
   "outputs": [
    {
     "data": {
      "image/png": "[encoded data removed]",
      "text/plain": [
       "<Figure size 2160x576 with 1 Axes>"
      ]
     },
     "metadata": {
      "needs_background": "light"
     },
     "output_type": "display_data"
    }
   ],
   "source": [
    "plt.figure(figsize=(30, 8))\n",
    "sns.boxplot(x=\"genres\", y=\"averageRating\", data=df1, linewidth=1.5)\n",
    "plt.title('The distribution of Rating and genres',fontsize=20, weight='bold')\n",
    "plt.show()"
   ]
  },
  {
   "cell_type": "markdown",
   "id": "528548b8",
   "metadata": {},
   "source": [
    "Here, we can see that Horror, Sci-Fi, Mystery and Western movies are less likely to get high ratings. While Documentary, Drama, Crime, Animation, Musical, History, Biography titles are most likely to get high ratings (except for some genres with too small a sample size)."
   ]
  },
  {
   "cell_type": "markdown",
   "id": "4b965f36",
   "metadata": {},
   "source": [
    "## Summary and future work\n",
    "\n",
    "Based on the above analysis, we will make movie rating predictions mainly for genres and release years. In the next work, we will use multiple linear regression models, decision tree regression models, random forest regression models, etc. to predict movie ratings."
   ]
  },
  {
   "cell_type": "code",
   "execution_count": 14,
   "id": "12fa9f63",
   "metadata": {},
   "outputs": [
    {
     "data": {
      "text/html": [
       "<div>\n",
       "<style scoped>\n",
       "    .dataframe tbody tr th:only-of-type {\n",
       "        vertical-align: middle;\n",
       "    }\n",
       "\n",
       "    .dataframe tbody tr th {\n",
       "        vertical-align: top;\n",
       "    }\n",
       "\n",
       "    .dataframe thead th {\n",
       "        text-align: right;\n",
       "    }\n",
       "</style>\n",
       "<table border=\"1\" class=\"dataframe\">\n",
       "  <thead>\n",
       "    <tr style=\"text-align: right;\">\n",
       "      <th></th>\n",
       "      <th>averageRating</th>\n",
       "      <th>numVotes</th>\n",
       "      <th>isAdult</th>\n",
       "      <th>startYear</th>\n",
       "      <th>runtimeMinutes</th>\n",
       "      <th>genres</th>\n",
       "    </tr>\n",
       "  </thead>\n",
       "  <tbody>\n",
       "    <tr>\n",
       "      <th>0</th>\n",
       "      <td>6.7</td>\n",
       "      <td>48</td>\n",
       "      <td>0</td>\n",
       "      <td>2021</td>\n",
       "      <td>133</td>\n",
       "      <td>Documentary</td>\n",
       "    </tr>\n",
       "    <tr>\n",
       "      <th>1</th>\n",
       "      <td>6.7</td>\n",
       "      <td>48</td>\n",
       "      <td>0</td>\n",
       "      <td>2021</td>\n",
       "      <td>133</td>\n",
       "      <td>Documentary</td>\n",
       "    </tr>\n",
       "    <tr>\n",
       "      <th>2</th>\n",
       "      <td>6.4</td>\n",
       "      <td>164</td>\n",
       "      <td>0</td>\n",
       "      <td>2020</td>\n",
       "      <td>70</td>\n",
       "      <td>Drama</td>\n",
       "    </tr>\n",
       "    <tr>\n",
       "      <th>3</th>\n",
       "      <td>6.4</td>\n",
       "      <td>164</td>\n",
       "      <td>0</td>\n",
       "      <td>2020</td>\n",
       "      <td>70</td>\n",
       "      <td>Drama</td>\n",
       "    </tr>\n",
       "    <tr>\n",
       "      <th>4</th>\n",
       "      <td>6.4</td>\n",
       "      <td>164</td>\n",
       "      <td>0</td>\n",
       "      <td>2020</td>\n",
       "      <td>70</td>\n",
       "      <td>Drama</td>\n",
       "    </tr>\n",
       "    <tr>\n",
       "      <th>...</th>\n",
       "      <td>...</td>\n",
       "      <td>...</td>\n",
       "      <td>...</td>\n",
       "      <td>...</td>\n",
       "      <td>...</td>\n",
       "      <td>...</td>\n",
       "    </tr>\n",
       "    <tr>\n",
       "      <th>404310</th>\n",
       "      <td>8.3</td>\n",
       "      <td>10</td>\n",
       "      <td>0</td>\n",
       "      <td>2017</td>\n",
       "      <td>116</td>\n",
       "      <td>\\N</td>\n",
       "    </tr>\n",
       "    <tr>\n",
       "      <th>404311</th>\n",
       "      <td>8.3</td>\n",
       "      <td>10</td>\n",
       "      <td>0</td>\n",
       "      <td>2017</td>\n",
       "      <td>116</td>\n",
       "      <td>\\N</td>\n",
       "    </tr>\n",
       "    <tr>\n",
       "      <th>404312</th>\n",
       "      <td>8.3</td>\n",
       "      <td>10</td>\n",
       "      <td>0</td>\n",
       "      <td>2017</td>\n",
       "      <td>116</td>\n",
       "      <td>\\N</td>\n",
       "    </tr>\n",
       "    <tr>\n",
       "      <th>404313</th>\n",
       "      <td>8.3</td>\n",
       "      <td>10</td>\n",
       "      <td>0</td>\n",
       "      <td>2017</td>\n",
       "      <td>116</td>\n",
       "      <td>\\N</td>\n",
       "    </tr>\n",
       "    <tr>\n",
       "      <th>404314</th>\n",
       "      <td>8.3</td>\n",
       "      <td>10</td>\n",
       "      <td>0</td>\n",
       "      <td>2017</td>\n",
       "      <td>116</td>\n",
       "      <td>\\N</td>\n",
       "    </tr>\n",
       "  </tbody>\n",
       "</table>\n",
       "<p>715617 rows × 6 columns</p>\n",
       "</div>"
      ],
      "text/plain": [
       "        averageRating  numVotes  isAdult  startYear runtimeMinutes  \\\n",
       "0                 6.7        48        0       2021            133   \n",
       "1                 6.7        48        0       2021            133   \n",
       "2                 6.4       164        0       2020             70   \n",
       "3                 6.4       164        0       2020             70   \n",
       "4                 6.4       164        0       2020             70   \n",
       "...               ...       ...      ...        ...            ...   \n",
       "404310            8.3        10        0       2017            116   \n",
       "404311            8.3        10        0       2017            116   \n",
       "404312            8.3        10        0       2017            116   \n",
       "404313            8.3        10        0       2017            116   \n",
       "404314            8.3        10        0       2017            116   \n",
       "\n",
       "             genres  \n",
       "0       Documentary  \n",
       "1       Documentary  \n",
       "2             Drama  \n",
       "3             Drama  \n",
       "4             Drama  \n",
       "...             ...  \n",
       "404310           \\N  \n",
       "404311           \\N  \n",
       "404312           \\N  \n",
       "404313           \\N  \n",
       "404314           \\N  \n",
       "\n",
       "[715617 rows x 6 columns]"
      ]
     },
     "execution_count": 14,
     "metadata": {},
     "output_type": "execute_result"
    }
   ],
   "source": [
    "drop_columns = [\"Unnamed: 0\", \"tconst\", \"nconst\", \"category\", \"primaryTitle\", \"primaryName\"]\n",
    "df_model = df1.drop(drop_columns, axis=1)\n",
    "df_model"
   ]
  },
  {
   "cell_type": "code",
   "execution_count": 15,
   "id": "69d14551",
   "metadata": {},
   "outputs": [
    {
     "name": "stdout",
     "output_type": "stream",
     "text": [
      "<class 'pandas.core.frame.DataFrame'>\n",
      "Int64Index: 715617 entries, 0 to 404314\n",
      "Data columns (total 6 columns):\n",
      " #   Column          Non-Null Count   Dtype  \n",
      "---  ------          --------------   -----  \n",
      " 0   averageRating   715617 non-null  float64\n",
      " 1   numVotes        715617 non-null  int64  \n",
      " 2   isAdult         715617 non-null  int64  \n",
      " 3   startYear       715617 non-null  int64  \n",
      " 4   runtimeMinutes  715617 non-null  object \n",
      " 5   genres          715617 non-null  object \n",
      "dtypes: float64(1), int64(3), object(2)\n",
      "memory usage: 58.2+ MB\n"
     ]
    }
   ],
   "source": [
    "df_model.info()"
   ]
  },
  {
   "cell_type": "code",
   "execution_count": 16,
   "id": "d8764040",
   "metadata": {},
   "outputs": [],
   "source": [
    "df_model['genres'] = df_model['genres'].replace({r'\\N': None})\n",
    "df_model['runtimeMinutes'] = df_model['runtimeMinutes'].replace({r'\\N': None}).astype(float)"
   ]
  },
  {
   "cell_type": "code",
   "execution_count": 17,
   "id": "ac0fcf9d",
   "metadata": {},
   "outputs": [
    {
     "data": {
      "text/html": [
       "<div>\n",
       "<style scoped>\n",
       "    .dataframe tbody tr th:only-of-type {\n",
       "        vertical-align: middle;\n",
       "    }\n",
       "\n",
       "    .dataframe tbody tr th {\n",
       "        vertical-align: top;\n",
       "    }\n",
       "\n",
       "    .dataframe thead th {\n",
       "        text-align: right;\n",
       "    }\n",
       "</style>\n",
       "<table border=\"1\" class=\"dataframe\">\n",
       "  <thead>\n",
       "    <tr style=\"text-align: right;\">\n",
       "      <th></th>\n",
       "      <th>averageRating</th>\n",
       "      <th>numVotes</th>\n",
       "      <th>isAdult</th>\n",
       "      <th>startYear</th>\n",
       "      <th>runtimeMinutes</th>\n",
       "      <th>genres</th>\n",
       "    </tr>\n",
       "  </thead>\n",
       "  <tbody>\n",
       "    <tr>\n",
       "      <th>0</th>\n",
       "      <td>6.7</td>\n",
       "      <td>48</td>\n",
       "      <td>0</td>\n",
       "      <td>2021</td>\n",
       "      <td>133.0</td>\n",
       "      <td>Documentary</td>\n",
       "    </tr>\n",
       "    <tr>\n",
       "      <th>1</th>\n",
       "      <td>6.7</td>\n",
       "      <td>48</td>\n",
       "      <td>0</td>\n",
       "      <td>2021</td>\n",
       "      <td>133.0</td>\n",
       "      <td>Documentary</td>\n",
       "    </tr>\n",
       "    <tr>\n",
       "      <th>2</th>\n",
       "      <td>6.4</td>\n",
       "      <td>164</td>\n",
       "      <td>0</td>\n",
       "      <td>2020</td>\n",
       "      <td>70.0</td>\n",
       "      <td>Drama</td>\n",
       "    </tr>\n",
       "    <tr>\n",
       "      <th>3</th>\n",
       "      <td>6.4</td>\n",
       "      <td>164</td>\n",
       "      <td>0</td>\n",
       "      <td>2020</td>\n",
       "      <td>70.0</td>\n",
       "      <td>Drama</td>\n",
       "    </tr>\n",
       "    <tr>\n",
       "      <th>4</th>\n",
       "      <td>6.4</td>\n",
       "      <td>164</td>\n",
       "      <td>0</td>\n",
       "      <td>2020</td>\n",
       "      <td>70.0</td>\n",
       "      <td>Drama</td>\n",
       "    </tr>\n",
       "    <tr>\n",
       "      <th>...</th>\n",
       "      <td>...</td>\n",
       "      <td>...</td>\n",
       "      <td>...</td>\n",
       "      <td>...</td>\n",
       "      <td>...</td>\n",
       "      <td>...</td>\n",
       "    </tr>\n",
       "    <tr>\n",
       "      <th>404310</th>\n",
       "      <td>8.3</td>\n",
       "      <td>10</td>\n",
       "      <td>0</td>\n",
       "      <td>2017</td>\n",
       "      <td>116.0</td>\n",
       "      <td>None</td>\n",
       "    </tr>\n",
       "    <tr>\n",
       "      <th>404311</th>\n",
       "      <td>8.3</td>\n",
       "      <td>10</td>\n",
       "      <td>0</td>\n",
       "      <td>2017</td>\n",
       "      <td>116.0</td>\n",
       "      <td>None</td>\n",
       "    </tr>\n",
       "    <tr>\n",
       "      <th>404312</th>\n",
       "      <td>8.3</td>\n",
       "      <td>10</td>\n",
       "      <td>0</td>\n",
       "      <td>2017</td>\n",
       "      <td>116.0</td>\n",
       "      <td>None</td>\n",
       "    </tr>\n",
       "    <tr>\n",
       "      <th>404313</th>\n",
       "      <td>8.3</td>\n",
       "      <td>10</td>\n",
       "      <td>0</td>\n",
       "      <td>2017</td>\n",
       "      <td>116.0</td>\n",
       "      <td>None</td>\n",
       "    </tr>\n",
       "    <tr>\n",
       "      <th>404314</th>\n",
       "      <td>8.3</td>\n",
       "      <td>10</td>\n",
       "      <td>0</td>\n",
       "      <td>2017</td>\n",
       "      <td>116.0</td>\n",
       "      <td>None</td>\n",
       "    </tr>\n",
       "  </tbody>\n",
       "</table>\n",
       "<p>715617 rows × 6 columns</p>\n",
       "</div>"
      ],
      "text/plain": [
       "        averageRating  numVotes  isAdult  startYear  runtimeMinutes  \\\n",
       "0                 6.7        48        0       2021           133.0   \n",
       "1                 6.7        48        0       2021           133.0   \n",
       "2                 6.4       164        0       2020            70.0   \n",
       "3                 6.4       164        0       2020            70.0   \n",
       "4                 6.4       164        0       2020            70.0   \n",
       "...               ...       ...      ...        ...             ...   \n",
       "404310            8.3        10        0       2017           116.0   \n",
       "404311            8.3        10        0       2017           116.0   \n",
       "404312            8.3        10        0       2017           116.0   \n",
       "404313            8.3        10        0       2017           116.0   \n",
       "404314            8.3        10        0       2017           116.0   \n",
       "\n",
       "             genres  \n",
       "0       Documentary  \n",
       "1       Documentary  \n",
       "2             Drama  \n",
       "3             Drama  \n",
       "4             Drama  \n",
       "...             ...  \n",
       "404310         None  \n",
       "404311         None  \n",
       "404312         None  \n",
       "404313         None  \n",
       "404314         None  \n",
       "\n",
       "[715617 rows x 6 columns]"
      ]
     },
     "execution_count": 17,
     "metadata": {},
     "output_type": "execute_result"
    }
   ],
   "source": [
    "df_model"
   ]
  },
  {
   "cell_type": "code",
   "execution_count": 18,
   "id": "ef49a091",
   "metadata": {},
   "outputs": [
    {
     "name": "stdout",
     "output_type": "stream",
     "text": [
      "<class 'pandas.core.frame.DataFrame'>\n",
      "Int64Index: 715617 entries, 0 to 404314\n",
      "Data columns (total 6 columns):\n",
      " #   Column          Non-Null Count   Dtype  \n",
      "---  ------          --------------   -----  \n",
      " 0   averageRating   715617 non-null  float64\n",
      " 1   numVotes        715617 non-null  int64  \n",
      " 2   isAdult         715617 non-null  int64  \n",
      " 3   startYear       715617 non-null  int64  \n",
      " 4   runtimeMinutes  666033 non-null  float64\n",
      " 5   genres          711877 non-null  object \n",
      "dtypes: float64(2), int64(3), object(1)\n",
      "memory usage: 58.2+ MB\n"
     ]
    }
   ],
   "source": [
    "df_model.info()"
   ]
  },
  {
   "cell_type": "code",
   "execution_count": 19,
   "id": "324d4421",
   "metadata": {},
   "outputs": [],
   "source": [
    "df_model = df_model.dropna()"
   ]
  },
  {
   "cell_type": "code",
   "execution_count": 20,
   "id": "bd08f1d2",
   "metadata": {},
   "outputs": [],
   "source": [
    "df_model = df_model.reset_index(drop=True)"
   ]
  },
  {
   "cell_type": "code",
   "execution_count": 21,
   "id": "2de3066c",
   "metadata": {},
   "outputs": [
    {
     "data": {
      "text/html": [
       "<div>\n",
       "<style scoped>\n",
       "    .dataframe tbody tr th:only-of-type {\n",
       "        vertical-align: middle;\n",
       "    }\n",
       "\n",
       "    .dataframe tbody tr th {\n",
       "        vertical-align: top;\n",
       "    }\n",
       "\n",
       "    .dataframe thead th {\n",
       "        text-align: right;\n",
       "    }\n",
       "</style>\n",
       "<table border=\"1\" class=\"dataframe\">\n",
       "  <thead>\n",
       "    <tr style=\"text-align: right;\">\n",
       "      <th></th>\n",
       "      <th>averageRating</th>\n",
       "      <th>numVotes</th>\n",
       "      <th>isAdult</th>\n",
       "      <th>startYear</th>\n",
       "      <th>runtimeMinutes</th>\n",
       "      <th>genres</th>\n",
       "    </tr>\n",
       "  </thead>\n",
       "  <tbody>\n",
       "    <tr>\n",
       "      <th>0</th>\n",
       "      <td>6.7</td>\n",
       "      <td>48</td>\n",
       "      <td>0</td>\n",
       "      <td>2021</td>\n",
       "      <td>133.0</td>\n",
       "      <td>7</td>\n",
       "    </tr>\n",
       "    <tr>\n",
       "      <th>1</th>\n",
       "      <td>6.7</td>\n",
       "      <td>48</td>\n",
       "      <td>0</td>\n",
       "      <td>2021</td>\n",
       "      <td>133.0</td>\n",
       "      <td>7</td>\n",
       "    </tr>\n",
       "    <tr>\n",
       "      <th>2</th>\n",
       "      <td>6.4</td>\n",
       "      <td>164</td>\n",
       "      <td>0</td>\n",
       "      <td>2020</td>\n",
       "      <td>70.0</td>\n",
       "      <td>8</td>\n",
       "    </tr>\n",
       "    <tr>\n",
       "      <th>3</th>\n",
       "      <td>6.4</td>\n",
       "      <td>164</td>\n",
       "      <td>0</td>\n",
       "      <td>2020</td>\n",
       "      <td>70.0</td>\n",
       "      <td>8</td>\n",
       "    </tr>\n",
       "    <tr>\n",
       "      <th>4</th>\n",
       "      <td>6.4</td>\n",
       "      <td>164</td>\n",
       "      <td>0</td>\n",
       "      <td>2020</td>\n",
       "      <td>70.0</td>\n",
       "      <td>8</td>\n",
       "    </tr>\n",
       "  </tbody>\n",
       "</table>\n",
       "</div>"
      ],
      "text/plain": [
       "   averageRating  numVotes  isAdult  startYear  runtimeMinutes  genres\n",
       "0            6.7        48        0       2021           133.0       7\n",
       "1            6.7        48        0       2021           133.0       7\n",
       "2            6.4       164        0       2020            70.0       8\n",
       "3            6.4       164        0       2020            70.0       8\n",
       "4            6.4       164        0       2020            70.0       8"
      ]
     },
     "execution_count": 21,
     "metadata": {},
     "output_type": "execute_result"
    }
   ],
   "source": [
    "from sklearn.preprocessing import LabelEncoder\n",
    "\n",
    "# creating instances of labelencoder\n",
    "labelencoder = LabelEncoder()\n",
    "\n",
    "# Assigning numeric values and convert the non-numeric column\n",
    "df_model['genres'] = labelencoder.fit_transform(df_model['genres'])\n",
    "df_model.head()"
   ]
  },
  {
   "cell_type": "code",
   "execution_count": 22,
   "id": "8b15d69a",
   "metadata": {},
   "outputs": [],
   "source": [
    "y = df_model['averageRating']\n",
    "x = df_model.drop(['averageRating'], axis = 1)"
   ]
  },
  {
   "cell_type": "code",
   "execution_count": 23,
   "id": "25d8407c",
   "metadata": {},
   "outputs": [],
   "source": [
    "from sklearn.model_selection import train_test_split\n",
    "\n",
    "X_train, X_test, y_train, y_test = train_test_split(x, y, test_size=0.2)"
   ]
  },
  {
   "cell_type": "code",
   "execution_count": 24,
   "id": "7d87f5fc",
   "metadata": {},
   "outputs": [
    {
     "data": {
      "text/plain": [
       "0.9238275331287427"
      ]
     },
     "execution_count": 24,
     "metadata": {},
     "output_type": "execute_result"
    }
   ],
   "source": [
    "from sklearn.linear_model import RandomForestRegressor()\n",
    "\n",
    "regr = RandomForestRegressor()\n",
    "regr.fit(X_train, y_train)\n",
    "regr.score(X_test, y_test)"
   ]
  },
  {
   "cell_type": "code",
   "execution_count": 45,
   "id": "55a6c2b9",
   "metadata": {},
   "outputs": [
    {
     "data": {
      "image/png": "[encoded data removed]",
      "text/plain": [
       "<Figure size 432x288 with 1 Axes>"
      ]
     },
     "metadata": {
      "needs_background": "light"
     },
     "output_type": "display_data"
    }
   ],
   "source": [
    "from sklearn import datasets\n",
    "from sklearn.linear_model import LinearRegression\n",
    "model = LinearRegression()\n",
    "model.fit(X_train, y_train)\n",
    "predict_train = model.predict(X_train)\n",
    "predict_valid = model.predict(X_test)\n",
    "X, y =datasets.make_regression(n_samples=100, n_features=1, n_targets=1, noise=10)\n",
    "plt.scatter(X, y)\n",
    "plt.show()"
   ]
  },
  {
   "cell_type": "code",
   "execution_count": null,
   "id": "9df26543",
   "metadata": {},
   "outputs": [],
   "source": []
  }
 ],
 "metadata": {
  "kernelspec": {
   "display_name": "Python 3 (ipykernel)",
   "language": "python",
   "name": "python3"
  },
  "language_info": {
   "codemirror_mode": {
    "name": "ipython",
    "version": 3
   },
   "file_extension": ".py",
   "mimetype": "text/x-python",
   "name": "python",
   "nbconvert_exporter": "python",
   "pygments_lexer": "ipython3",
   "version": "3.8.16"
  }
 },
 "nbformat": 4,
 "nbformat_minor": 5
}
