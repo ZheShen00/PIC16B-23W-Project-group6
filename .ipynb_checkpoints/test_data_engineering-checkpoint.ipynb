{
 "cells": [
  {
   "cell_type": "code",
   "execution_count": 1,
   "id": "62e207ab",
   "metadata": {},
   "outputs": [],
   "source": [
    "import pandas as pd\n",
    "import sqlite3"
   ]
  },
  {
   "cell_type": "code",
   "execution_count": 2,
   "id": "ed312db1",
   "metadata": {},
   "outputs": [
    {
     "data": {
      "text/html": [
       "<div>\n",
       "<style scoped>\n",
       "    .dataframe tbody tr th:only-of-type {\n",
       "        vertical-align: middle;\n",
       "    }\n",
       "\n",
       "    .dataframe tbody tr th {\n",
       "        vertical-align: top;\n",
       "    }\n",
       "\n",
       "    .dataframe thead th {\n",
       "        text-align: right;\n",
       "    }\n",
       "</style>\n",
       "<table border=\"1\" class=\"dataframe\">\n",
       "  <thead>\n",
       "    <tr style=\"text-align: right;\">\n",
       "      <th></th>\n",
       "      <th>Unnamed: 0</th>\n",
       "      <th>nconst</th>\n",
       "      <th>primaryName</th>\n",
       "    </tr>\n",
       "  </thead>\n",
       "  <tbody>\n",
       "    <tr>\n",
       "      <th>0</th>\n",
       "      <td>91</td>\n",
       "      <td>nm0000092</td>\n",
       "      <td>John Cleese</td>\n",
       "    </tr>\n",
       "    <tr>\n",
       "      <th>1</th>\n",
       "      <td>95</td>\n",
       "      <td>nm0000096</td>\n",
       "      <td>Gillian Anderson</td>\n",
       "    </tr>\n",
       "    <tr>\n",
       "      <th>2</th>\n",
       "      <td>97</td>\n",
       "      <td>nm0000098</td>\n",
       "      <td>Jennifer Aniston</td>\n",
       "    </tr>\n",
       "    <tr>\n",
       "      <th>3</th>\n",
       "      <td>99</td>\n",
       "      <td>nm0000100</td>\n",
       "      <td>Rowan Atkinson</td>\n",
       "    </tr>\n",
       "    <tr>\n",
       "      <th>4</th>\n",
       "      <td>100</td>\n",
       "      <td>nm0000101</td>\n",
       "      <td>Dan Aykroyd</td>\n",
       "    </tr>\n",
       "  </tbody>\n",
       "</table>\n",
       "</div>"
      ],
      "text/plain": [
       "   Unnamed: 0     nconst       primaryName\n",
       "0          91  nm0000092       John Cleese\n",
       "1          95  nm0000096  Gillian Anderson\n",
       "2          97  nm0000098  Jennifer Aniston\n",
       "3          99  nm0000100    Rowan Atkinson\n",
       "4         100  nm0000101       Dan Aykroyd"
      ]
     },
     "execution_count": 2,
     "metadata": {},
     "output_type": "execute_result"
    }
   ],
   "source": [
    "name = pd.read_csv(\"test_data/name.csv\")\n",
    "name.head()"
   ]
  },
  {
   "cell_type": "code",
   "execution_count": 3,
   "id": "1c3ab3dd",
   "metadata": {},
   "outputs": [
    {
     "data": {
      "text/html": [
       "<div>\n",
       "<style scoped>\n",
       "    .dataframe tbody tr th:only-of-type {\n",
       "        vertical-align: middle;\n",
       "    }\n",
       "\n",
       "    .dataframe tbody tr th {\n",
       "        vertical-align: top;\n",
       "    }\n",
       "\n",
       "    .dataframe thead th {\n",
       "        text-align: right;\n",
       "    }\n",
       "</style>\n",
       "<table border=\"1\" class=\"dataframe\">\n",
       "  <thead>\n",
       "    <tr style=\"text-align: right;\">\n",
       "      <th></th>\n",
       "      <th>Unnamed: 0</th>\n",
       "      <th>tconst</th>\n",
       "      <th>primaryTitle</th>\n",
       "      <th>isAdult</th>\n",
       "      <th>startYear</th>\n",
       "      <th>runtimeMinutes</th>\n",
       "      <th>genres</th>\n",
       "    </tr>\n",
       "  </thead>\n",
       "  <tbody>\n",
       "    <tr>\n",
       "      <th>0</th>\n",
       "      <td>106668</td>\n",
       "      <td>tt0109128</td>\n",
       "      <td>Washed Ashore</td>\n",
       "      <td>0</td>\n",
       "      <td>2023</td>\n",
       "      <td>86</td>\n",
       "      <td>Documentary</td>\n",
       "    </tr>\n",
       "    <tr>\n",
       "      <th>1</th>\n",
       "      <td>346016</td>\n",
       "      <td>tt0361130</td>\n",
       "      <td>Land of Nairi</td>\n",
       "      <td>0</td>\n",
       "      <td>2023</td>\n",
       "      <td>67</td>\n",
       "      <td>Documentary</td>\n",
       "    </tr>\n",
       "    <tr>\n",
       "      <th>2</th>\n",
       "      <td>409984</td>\n",
       "      <td>tt0427340</td>\n",
       "      <td>Masters of the Universe</td>\n",
       "      <td>0</td>\n",
       "      <td>2024</td>\n",
       "      <td>\\N</td>\n",
       "      <td>Action,Adventure,Animation</td>\n",
       "    </tr>\n",
       "    <tr>\n",
       "      <th>3</th>\n",
       "      <td>421892</td>\n",
       "      <td>tt0439572</td>\n",
       "      <td>The Flash</td>\n",
       "      <td>0</td>\n",
       "      <td>2023</td>\n",
       "      <td>\\N</td>\n",
       "      <td>Action,Adventure,Fantasy</td>\n",
       "    </tr>\n",
       "    <tr>\n",
       "      <th>4</th>\n",
       "      <td>433256</td>\n",
       "      <td>tt0451272</td>\n",
       "      <td>Nefarious</td>\n",
       "      <td>0</td>\n",
       "      <td>2023</td>\n",
       "      <td>85</td>\n",
       "      <td>Crime,Thriller</td>\n",
       "    </tr>\n",
       "  </tbody>\n",
       "</table>\n",
       "</div>"
      ],
      "text/plain": [
       "   Unnamed: 0     tconst             primaryTitle  isAdult  startYear  \\\n",
       "0      106668  tt0109128            Washed Ashore        0       2023   \n",
       "1      346016  tt0361130            Land of Nairi        0       2023   \n",
       "2      409984  tt0427340  Masters of the Universe        0       2024   \n",
       "3      421892  tt0439572                The Flash        0       2023   \n",
       "4      433256  tt0451272                Nefarious        0       2023   \n",
       "\n",
       "  runtimeMinutes                      genres  \n",
       "0             86                 Documentary  \n",
       "1             67                 Documentary  \n",
       "2             \\N  Action,Adventure,Animation  \n",
       "3             \\N    Action,Adventure,Fantasy  \n",
       "4             85              Crime,Thriller  "
      ]
     },
     "execution_count": 3,
     "metadata": {},
     "output_type": "execute_result"
    }
   ],
   "source": [
    "basics = pd.read_csv(\"test_data/basics.csv\")\n",
    "basics.head()"
   ]
  },
  {
   "cell_type": "code",
   "execution_count": 4,
   "id": "0ef5868d",
   "metadata": {},
   "outputs": [
    {
     "data": {
      "text/html": [
       "<div>\n",
       "<style scoped>\n",
       "    .dataframe tbody tr th:only-of-type {\n",
       "        vertical-align: middle;\n",
       "    }\n",
       "\n",
       "    .dataframe tbody tr th {\n",
       "        vertical-align: top;\n",
       "    }\n",
       "\n",
       "    .dataframe thead th {\n",
       "        text-align: right;\n",
       "    }\n",
       "</style>\n",
       "<table border=\"1\" class=\"dataframe\">\n",
       "  <thead>\n",
       "    <tr style=\"text-align: right;\">\n",
       "      <th></th>\n",
       "      <th>Unnamed: 0</th>\n",
       "      <th>tconst</th>\n",
       "      <th>averageRating</th>\n",
       "      <th>numVotes</th>\n",
       "    </tr>\n",
       "  </thead>\n",
       "  <tbody>\n",
       "    <tr>\n",
       "      <th>0</th>\n",
       "      <td>80737</td>\n",
       "      <td>tt0109128</td>\n",
       "      <td>7.2</td>\n",
       "      <td>29</td>\n",
       "    </tr>\n",
       "    <tr>\n",
       "      <th>1</th>\n",
       "      <td>204243</td>\n",
       "      <td>tt0361130</td>\n",
       "      <td>5.4</td>\n",
       "      <td>8</td>\n",
       "    </tr>\n",
       "    <tr>\n",
       "      <th>2</th>\n",
       "      <td>450728</td>\n",
       "      <td>tt10087728</td>\n",
       "      <td>6.2</td>\n",
       "      <td>66</td>\n",
       "    </tr>\n",
       "    <tr>\n",
       "      <th>3</th>\n",
       "      <td>451243</td>\n",
       "      <td>tt10098448</td>\n",
       "      <td>7.8</td>\n",
       "      <td>4357</td>\n",
       "    </tr>\n",
       "    <tr>\n",
       "      <th>4</th>\n",
       "      <td>454007</td>\n",
       "      <td>tt10151854</td>\n",
       "      <td>6.6</td>\n",
       "      <td>17303</td>\n",
       "    </tr>\n",
       "  </tbody>\n",
       "</table>\n",
       "</div>"
      ],
      "text/plain": [
       "   Unnamed: 0      tconst  averageRating  numVotes\n",
       "0       80737   tt0109128            7.2        29\n",
       "1      204243   tt0361130            5.4         8\n",
       "2      450728  tt10087728            6.2        66\n",
       "3      451243  tt10098448            7.8      4357\n",
       "4      454007  tt10151854            6.6     17303"
      ]
     },
     "execution_count": 4,
     "metadata": {},
     "output_type": "execute_result"
    }
   ],
   "source": [
    "ratings = pd.read_csv(\"test_data/rating.csv\")\n",
    "ratings.head()"
   ]
  },
  {
   "cell_type": "code",
   "execution_count": 5,
   "id": "330bb90f",
   "metadata": {},
   "outputs": [
    {
     "data": {
      "text/html": [
       "<div>\n",
       "<style scoped>\n",
       "    .dataframe tbody tr th:only-of-type {\n",
       "        vertical-align: middle;\n",
       "    }\n",
       "\n",
       "    .dataframe tbody tr th {\n",
       "        vertical-align: top;\n",
       "    }\n",
       "\n",
       "    .dataframe thead th {\n",
       "        text-align: right;\n",
       "    }\n",
       "</style>\n",
       "<table border=\"1\" class=\"dataframe\">\n",
       "  <thead>\n",
       "    <tr style=\"text-align: right;\">\n",
       "      <th></th>\n",
       "      <th>Unnamed: 0</th>\n",
       "      <th>tconst</th>\n",
       "      <th>nconst</th>\n",
       "      <th>category</th>\n",
       "    </tr>\n",
       "  </thead>\n",
       "  <tbody>\n",
       "    <tr>\n",
       "      <th>0</th>\n",
       "      <td>935619</td>\n",
       "      <td>tt0109128</td>\n",
       "      <td>nm0315430</td>\n",
       "      <td>director</td>\n",
       "    </tr>\n",
       "    <tr>\n",
       "      <th>1</th>\n",
       "      <td>2608304</td>\n",
       "      <td>tt0361130</td>\n",
       "      <td>nm0067384</td>\n",
       "      <td>director</td>\n",
       "    </tr>\n",
       "    <tr>\n",
       "      <th>2</th>\n",
       "      <td>3048054</td>\n",
       "      <td>tt0427340</td>\n",
       "      <td>nm6563873</td>\n",
       "      <td>actor</td>\n",
       "    </tr>\n",
       "    <tr>\n",
       "      <th>3</th>\n",
       "      <td>3048055</td>\n",
       "      <td>tt0427340</td>\n",
       "      <td>nm1887480</td>\n",
       "      <td>director</td>\n",
       "    </tr>\n",
       "    <tr>\n",
       "      <th>4</th>\n",
       "      <td>3048056</td>\n",
       "      <td>tt0427340</td>\n",
       "      <td>nm1519639</td>\n",
       "      <td>director</td>\n",
       "    </tr>\n",
       "  </tbody>\n",
       "</table>\n",
       "</div>"
      ],
      "text/plain": [
       "   Unnamed: 0     tconst     nconst  category\n",
       "0      935619  tt0109128  nm0315430  director\n",
       "1     2608304  tt0361130  nm0067384  director\n",
       "2     3048054  tt0427340  nm6563873     actor\n",
       "3     3048055  tt0427340  nm1887480  director\n",
       "4     3048056  tt0427340  nm1519639  director"
      ]
     },
     "execution_count": 5,
     "metadata": {},
     "output_type": "execute_result"
    }
   ],
   "source": [
    "principals = pd.read_csv(\"test_data/principals.csv\")\n",
    "principals.head()"
   ]
  },
  {
   "cell_type": "code",
   "execution_count": 6,
   "id": "fdf37472",
   "metadata": {},
   "outputs": [],
   "source": [
    "# Create the database\n",
    "con = sqlite3.connect(\"test_imdb.db\")"
   ]
  },
  {
   "cell_type": "code",
   "execution_count": 7,
   "id": "a83c1336",
   "metadata": {},
   "outputs": [
    {
     "data": {
      "text/plain": [
       "24910"
      ]
     },
     "execution_count": 7,
     "metadata": {},
     "output_type": "execute_result"
    }
   ],
   "source": [
    "name.to_sql(\"name\", con, index = False, if_exists = 'replace')"
   ]
  },
  {
   "cell_type": "code",
   "execution_count": 8,
   "id": "ecbba0ff",
   "metadata": {},
   "outputs": [
    {
     "data": {
      "text/plain": [
       "6853"
      ]
     },
     "execution_count": 8,
     "metadata": {},
     "output_type": "execute_result"
    }
   ],
   "source": [
    "basics.to_sql(\"basics\", con, index=False,if_exists = 'replace')"
   ]
  },
  {
   "cell_type": "code",
   "execution_count": 9,
   "id": "a6f78c20",
   "metadata": {},
   "outputs": [
    {
     "data": {
      "text/plain": [
       "1381"
      ]
     },
     "execution_count": 9,
     "metadata": {},
     "output_type": "execute_result"
    }
   ],
   "source": [
    "ratings.to_sql(\"ratings\", con, index = False,if_exists = 'replace')"
   ]
  },
  {
   "cell_type": "code",
   "execution_count": 10,
   "id": "316a77bd",
   "metadata": {},
   "outputs": [
    {
     "data": {
      "text/plain": [
       "28594"
      ]
     },
     "execution_count": 10,
     "metadata": {},
     "output_type": "execute_result"
    }
   ],
   "source": [
    "principals.to_sql(\"principals\", con, index = False,if_exists = 'replace')"
   ]
  },
  {
   "cell_type": "code",
   "execution_count": 11,
   "id": "ab3adf1b",
   "metadata": {},
   "outputs": [],
   "source": [
    "cursor = con.cursor()"
   ]
  },
  {
   "cell_type": "code",
   "execution_count": 12,
   "id": "e01fe015",
   "metadata": {},
   "outputs": [
    {
     "data": {
      "text/plain": [
       "<sqlite3.Cursor at 0x7fc8b90ac6c0>"
      ]
     },
     "execution_count": 12,
     "metadata": {},
     "output_type": "execute_result"
    }
   ],
   "source": [
    "# Define the name of the table to delete\n",
    "table_name = ['countries','stations']\n",
    "\n",
    "# Execute the DROP TABLE statement\n",
    "cursor.execute(\"DROP TABLE IF EXISTS {}\".format(table_name))"
   ]
  },
  {
   "cell_type": "code",
   "execution_count": 13,
   "id": "a381d39f",
   "metadata": {},
   "outputs": [],
   "source": [
    "con.commit()"
   ]
  },
  {
   "cell_type": "code",
   "execution_count": 14,
   "id": "74443de7",
   "metadata": {},
   "outputs": [
    {
     "data": {
      "text/html": [
       "<div>\n",
       "<style scoped>\n",
       "    .dataframe tbody tr th:only-of-type {\n",
       "        vertical-align: middle;\n",
       "    }\n",
       "\n",
       "    .dataframe tbody tr th {\n",
       "        vertical-align: top;\n",
       "    }\n",
       "\n",
       "    .dataframe thead th {\n",
       "        text-align: right;\n",
       "    }\n",
       "</style>\n",
       "<table border=\"1\" class=\"dataframe\">\n",
       "  <thead>\n",
       "    <tr style=\"text-align: right;\">\n",
       "      <th></th>\n",
       "      <th>Unnamed: 0</th>\n",
       "      <th>tconst</th>\n",
       "      <th>nconst</th>\n",
       "      <th>category</th>\n",
       "      <th>Unnamed: 0</th>\n",
       "      <th>tconst</th>\n",
       "      <th>averageRating</th>\n",
       "      <th>numVotes</th>\n",
       "      <th>Unnamed: 0</th>\n",
       "      <th>tconst</th>\n",
       "      <th>primaryTitle</th>\n",
       "      <th>isAdult</th>\n",
       "      <th>startYear</th>\n",
       "      <th>runtimeMinutes</th>\n",
       "      <th>genres</th>\n",
       "      <th>Unnamed: 0</th>\n",
       "      <th>nconst</th>\n",
       "      <th>primaryName</th>\n",
       "    </tr>\n",
       "  </thead>\n",
       "  <tbody>\n",
       "    <tr>\n",
       "      <th>0</th>\n",
       "      <td>935619</td>\n",
       "      <td>tt0109128</td>\n",
       "      <td>nm0315430</td>\n",
       "      <td>director</td>\n",
       "      <td>80737</td>\n",
       "      <td>tt0109128</td>\n",
       "      <td>7.2</td>\n",
       "      <td>29</td>\n",
       "      <td>106668</td>\n",
       "      <td>tt0109128</td>\n",
       "      <td>Washed Ashore</td>\n",
       "      <td>0</td>\n",
       "      <td>2023</td>\n",
       "      <td>86</td>\n",
       "      <td>Documentary</td>\n",
       "      <td>298791</td>\n",
       "      <td>nm0315430</td>\n",
       "      <td>Nikolaus Geyrhalter</td>\n",
       "    </tr>\n",
       "    <tr>\n",
       "      <th>1</th>\n",
       "      <td>2608304</td>\n",
       "      <td>tt0361130</td>\n",
       "      <td>nm0067384</td>\n",
       "      <td>director</td>\n",
       "      <td>204243</td>\n",
       "      <td>tt0361130</td>\n",
       "      <td>5.4</td>\n",
       "      <td>8</td>\n",
       "      <td>346016</td>\n",
       "      <td>tt0361130</td>\n",
       "      <td>Land of Nairi</td>\n",
       "      <td>0</td>\n",
       "      <td>2023</td>\n",
       "      <td>67</td>\n",
       "      <td>Documentary</td>\n",
       "      <td>64328</td>\n",
       "      <td>nm0067384</td>\n",
       "      <td>Amo Bek-Nazaryan</td>\n",
       "    </tr>\n",
       "    <tr>\n",
       "      <th>2</th>\n",
       "      <td>7698688</td>\n",
       "      <td>tt10087728</td>\n",
       "      <td>nm4015380</td>\n",
       "      <td>actor</td>\n",
       "      <td>450728</td>\n",
       "      <td>tt10087728</td>\n",
       "      <td>6.2</td>\n",
       "      <td>66</td>\n",
       "      <td>1016512</td>\n",
       "      <td>tt10087728</td>\n",
       "      <td>Phalana Abbayi Phalana Ammayi</td>\n",
       "      <td>0</td>\n",
       "      <td>2023</td>\n",
       "      <td>126</td>\n",
       "      <td>Drama,Family,Romance</td>\n",
       "      <td>7561454</td>\n",
       "      <td>nm4015380</td>\n",
       "      <td>Srinivas Avasarala</td>\n",
       "    </tr>\n",
       "    <tr>\n",
       "      <th>3</th>\n",
       "      <td>7698689</td>\n",
       "      <td>tt10087728</td>\n",
       "      <td>nm6325281</td>\n",
       "      <td>actress</td>\n",
       "      <td>450728</td>\n",
       "      <td>tt10087728</td>\n",
       "      <td>6.2</td>\n",
       "      <td>66</td>\n",
       "      <td>1016512</td>\n",
       "      <td>tt10087728</td>\n",
       "      <td>Phalana Abbayi Phalana Ammayi</td>\n",
       "      <td>0</td>\n",
       "      <td>2023</td>\n",
       "      <td>126</td>\n",
       "      <td>Drama,Family,Romance</td>\n",
       "      <td>9493752</td>\n",
       "      <td>nm6325281</td>\n",
       "      <td>Malvika Nair</td>\n",
       "    </tr>\n",
       "    <tr>\n",
       "      <th>4</th>\n",
       "      <td>7698690</td>\n",
       "      <td>tt10087728</td>\n",
       "      <td>nm6601752</td>\n",
       "      <td>actor</td>\n",
       "      <td>450728</td>\n",
       "      <td>tt10087728</td>\n",
       "      <td>6.2</td>\n",
       "      <td>66</td>\n",
       "      <td>1016512</td>\n",
       "      <td>tt10087728</td>\n",
       "      <td>Phalana Abbayi Phalana Ammayi</td>\n",
       "      <td>0</td>\n",
       "      <td>2023</td>\n",
       "      <td>126</td>\n",
       "      <td>Drama,Family,Romance</td>\n",
       "      <td>9705734</td>\n",
       "      <td>nm6601752</td>\n",
       "      <td>Naga Shaurya</td>\n",
       "    </tr>\n",
       "  </tbody>\n",
       "</table>\n",
       "</div>"
      ],
      "text/plain": [
       "   Unnamed: 0      tconst     nconst  category  Unnamed: 0      tconst  \\\n",
       "0      935619   tt0109128  nm0315430  director       80737   tt0109128   \n",
       "1     2608304   tt0361130  nm0067384  director      204243   tt0361130   \n",
       "2     7698688  tt10087728  nm4015380     actor      450728  tt10087728   \n",
       "3     7698689  tt10087728  nm6325281   actress      450728  tt10087728   \n",
       "4     7698690  tt10087728  nm6601752     actor      450728  tt10087728   \n",
       "\n",
       "   averageRating  numVotes  Unnamed: 0      tconst  \\\n",
       "0            7.2        29      106668   tt0109128   \n",
       "1            5.4         8      346016   tt0361130   \n",
       "2            6.2        66     1016512  tt10087728   \n",
       "3            6.2        66     1016512  tt10087728   \n",
       "4            6.2        66     1016512  tt10087728   \n",
       "\n",
       "                    primaryTitle  isAdult  startYear runtimeMinutes  \\\n",
       "0                  Washed Ashore        0       2023             86   \n",
       "1                  Land of Nairi        0       2023             67   \n",
       "2  Phalana Abbayi Phalana Ammayi        0       2023            126   \n",
       "3  Phalana Abbayi Phalana Ammayi        0       2023            126   \n",
       "4  Phalana Abbayi Phalana Ammayi        0       2023            126   \n",
       "\n",
       "                 genres  Unnamed: 0     nconst          primaryName  \n",
       "0           Documentary      298791  nm0315430  Nikolaus Geyrhalter  \n",
       "1           Documentary       64328  nm0067384     Amo Bek-Nazaryan  \n",
       "2  Drama,Family,Romance     7561454  nm4015380   Srinivas Avasarala  \n",
       "3  Drama,Family,Romance     9493752  nm6325281         Malvika Nair  \n",
       "4  Drama,Family,Romance     9705734  nm6601752         Naga Shaurya  "
      ]
     },
     "execution_count": 14,
     "metadata": {},
     "output_type": "execute_result"
    }
   ],
   "source": [
    "import sqlite3\n",
    "\n",
    "# Connect to the database\n",
    "conn = sqlite3.connect('test_imdb.db')\n",
    "\n",
    "# Create a cursor object\n",
    "cursor = conn.cursor()\n",
    "\n",
    "# Define the SQL query to join the tables\n",
    "query = \"\"\"\n",
    "    SELECT *\n",
    "    FROM principals\n",
    "    JOIN ratings ON principals.tconst = ratings.tconst\n",
    "    JOIN basics ON principals.tconst = basics.tconst\n",
    "    JOIN name ON principals.nconst = name.nconst;\n",
    "\"\"\"\n",
    "\n",
    "# Execute the query and fetch the results\n",
    "cursor.execute(query)\n",
    "\n",
    "imdb = pd.read_sql_query(query,conn)\n",
    "imdb.head()\n"
   ]
  },
  {
   "cell_type": "code",
   "execution_count": 15,
   "id": "b62bf958",
   "metadata": {},
   "outputs": [
    {
     "data": {
      "text/html": [
       "<div>\n",
       "<style scoped>\n",
       "    .dataframe tbody tr th:only-of-type {\n",
       "        vertical-align: middle;\n",
       "    }\n",
       "\n",
       "    .dataframe tbody tr th {\n",
       "        vertical-align: top;\n",
       "    }\n",
       "\n",
       "    .dataframe thead th {\n",
       "        text-align: right;\n",
       "    }\n",
       "</style>\n",
       "<table border=\"1\" class=\"dataframe\">\n",
       "  <thead>\n",
       "    <tr style=\"text-align: right;\">\n",
       "      <th></th>\n",
       "      <th>Unnamed: 0</th>\n",
       "      <th>tconst</th>\n",
       "      <th>nconst</th>\n",
       "      <th>category</th>\n",
       "      <th>averageRating</th>\n",
       "      <th>numVotes</th>\n",
       "      <th>primaryTitle</th>\n",
       "      <th>isAdult</th>\n",
       "      <th>startYear</th>\n",
       "      <th>runtimeMinutes</th>\n",
       "      <th>genres</th>\n",
       "      <th>primaryName</th>\n",
       "    </tr>\n",
       "  </thead>\n",
       "  <tbody>\n",
       "    <tr>\n",
       "      <th>0</th>\n",
       "      <td>935619</td>\n",
       "      <td>tt0109128</td>\n",
       "      <td>nm0315430</td>\n",
       "      <td>director</td>\n",
       "      <td>7.2</td>\n",
       "      <td>29</td>\n",
       "      <td>Washed Ashore</td>\n",
       "      <td>0</td>\n",
       "      <td>2023</td>\n",
       "      <td>86</td>\n",
       "      <td>Documentary</td>\n",
       "      <td>Nikolaus Geyrhalter</td>\n",
       "    </tr>\n",
       "    <tr>\n",
       "      <th>1</th>\n",
       "      <td>2608304</td>\n",
       "      <td>tt0361130</td>\n",
       "      <td>nm0067384</td>\n",
       "      <td>director</td>\n",
       "      <td>5.4</td>\n",
       "      <td>8</td>\n",
       "      <td>Land of Nairi</td>\n",
       "      <td>0</td>\n",
       "      <td>2023</td>\n",
       "      <td>67</td>\n",
       "      <td>Documentary</td>\n",
       "      <td>Amo Bek-Nazaryan</td>\n",
       "    </tr>\n",
       "    <tr>\n",
       "      <th>2</th>\n",
       "      <td>7698688</td>\n",
       "      <td>tt10087728</td>\n",
       "      <td>nm4015380</td>\n",
       "      <td>actor</td>\n",
       "      <td>6.2</td>\n",
       "      <td>66</td>\n",
       "      <td>Phalana Abbayi Phalana Ammayi</td>\n",
       "      <td>0</td>\n",
       "      <td>2023</td>\n",
       "      <td>126</td>\n",
       "      <td>Drama,Family,Romance</td>\n",
       "      <td>Srinivas Avasarala</td>\n",
       "    </tr>\n",
       "    <tr>\n",
       "      <th>3</th>\n",
       "      <td>7698689</td>\n",
       "      <td>tt10087728</td>\n",
       "      <td>nm6325281</td>\n",
       "      <td>actress</td>\n",
       "      <td>6.2</td>\n",
       "      <td>66</td>\n",
       "      <td>Phalana Abbayi Phalana Ammayi</td>\n",
       "      <td>0</td>\n",
       "      <td>2023</td>\n",
       "      <td>126</td>\n",
       "      <td>Drama,Family,Romance</td>\n",
       "      <td>Malvika Nair</td>\n",
       "    </tr>\n",
       "    <tr>\n",
       "      <th>4</th>\n",
       "      <td>7698690</td>\n",
       "      <td>tt10087728</td>\n",
       "      <td>nm6601752</td>\n",
       "      <td>actor</td>\n",
       "      <td>6.2</td>\n",
       "      <td>66</td>\n",
       "      <td>Phalana Abbayi Phalana Ammayi</td>\n",
       "      <td>0</td>\n",
       "      <td>2023</td>\n",
       "      <td>126</td>\n",
       "      <td>Drama,Family,Romance</td>\n",
       "      <td>Naga Shaurya</td>\n",
       "    </tr>\n",
       "  </tbody>\n",
       "</table>\n",
       "</div>"
      ],
      "text/plain": [
       "   Unnamed: 0      tconst     nconst  category  averageRating  numVotes  \\\n",
       "0      935619   tt0109128  nm0315430  director            7.2        29   \n",
       "1     2608304   tt0361130  nm0067384  director            5.4         8   \n",
       "2     7698688  tt10087728  nm4015380     actor            6.2        66   \n",
       "3     7698689  tt10087728  nm6325281   actress            6.2        66   \n",
       "4     7698690  tt10087728  nm6601752     actor            6.2        66   \n",
       "\n",
       "                    primaryTitle  isAdult  startYear runtimeMinutes  \\\n",
       "0                  Washed Ashore        0       2023             86   \n",
       "1                  Land of Nairi        0       2023             67   \n",
       "2  Phalana Abbayi Phalana Ammayi        0       2023            126   \n",
       "3  Phalana Abbayi Phalana Ammayi        0       2023            126   \n",
       "4  Phalana Abbayi Phalana Ammayi        0       2023            126   \n",
       "\n",
       "                 genres          primaryName  \n",
       "0           Documentary  Nikolaus Geyrhalter  \n",
       "1           Documentary     Amo Bek-Nazaryan  \n",
       "2  Drama,Family,Romance   Srinivas Avasarala  \n",
       "3  Drama,Family,Romance         Malvika Nair  \n",
       "4  Drama,Family,Romance         Naga Shaurya  "
      ]
     },
     "execution_count": 15,
     "metadata": {},
     "output_type": "execute_result"
    }
   ],
   "source": [
    "imdb = imdb.loc[:, ~imdb.columns.duplicated()]\n",
    "imdb.head()"
   ]
  },
  {
   "cell_type": "code",
   "execution_count": 16,
   "id": "f11d54ae",
   "metadata": {},
   "outputs": [],
   "source": [
    "imdb1=imdb.copy()"
   ]
  },
  {
   "cell_type": "code",
   "execution_count": 17,
   "id": "28a9ccf2",
   "metadata": {},
   "outputs": [],
   "source": [
    "imdb.to_csv('test_imdb.csv', index=False)"
   ]
  },
  {
   "cell_type": "code",
   "execution_count": 18,
   "id": "a4754b0b",
   "metadata": {},
   "outputs": [
    {
     "data": {
      "text/plain": [
       "(6467, 12)"
      ]
     },
     "execution_count": 18,
     "metadata": {},
     "output_type": "execute_result"
    }
   ],
   "source": [
    "imdb.shape"
   ]
  },
  {
   "cell_type": "code",
   "execution_count": 19,
   "id": "6d2d1079",
   "metadata": {},
   "outputs": [
    {
     "data": {
      "text/plain": [
       "6467"
      ]
     },
     "execution_count": 19,
     "metadata": {},
     "output_type": "execute_result"
    }
   ],
   "source": [
    "imdb.to_sql(\"imdb\", conn, index = False,if_exists = 'replace')"
   ]
  },
  {
   "cell_type": "code",
   "execution_count": 20,
   "id": "edf53da0",
   "metadata": {},
   "outputs": [],
   "source": [
    "conn.close()"
   ]
  }
 ],
 "metadata": {
  "kernelspec": {
   "display_name": "Python 3 (ipykernel)",
   "language": "python",
   "name": "python3"
  },
  "language_info": {
   "codemirror_mode": {
    "name": "ipython",
    "version": 3
   },
   "file_extension": ".py",
   "mimetype": "text/x-python",
   "name": "python",
   "nbconvert_exporter": "python",
   "pygments_lexer": "ipython3",
   "version": "3.9.15"
  }
 },
 "nbformat": 4,
 "nbformat_minor": 5
}
