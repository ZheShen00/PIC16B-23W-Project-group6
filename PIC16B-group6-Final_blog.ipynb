{
 "cells": [
  {
   "cell_type": "markdown",
   "metadata": {},
   "source": [
    "# Prediction of Movies' Performance based on IMDb data\n",
    "### Prject(Group 6):  Joanne Qu, Zhitong Zhou, Zhe Shen\n"
   ]
  },
  {
   "cell_type": "code",
   "execution_count": 1,
   "metadata": {},
   "outputs": [],
   "source": [
    "# These are all libraries we will use in this project\n",
    "import pandas as pd\n",
    "import sqlite3\n",
    "import numpy as np\n",
    "import matplotlib.pyplot as plt\n",
    "import seaborn as sns"
   ]
  },
  {
   "cell_type": "markdown",
   "metadata": {},
   "source": [
    "## Part I: Introduction and Overview"
   ]
  },
  {
   "cell_type": "markdown",
   "metadata": {},
   "source": [
    "## Part II: Data Collection and Cleaning\n",
    "\n",
    "There is a very famous saying that is repeated by data scientists: \"Garbage in, garbage out.\". So the process of data collection and cleaning will be one of the most important parts of our work.We will do the following in this section：\n",
    "\n",
    "* We will collect the data from [IMDb](https://www.imdb.com/interfaces/) by `Scrapy`: **imdb.csv** and receive:\n",
    "\n",
    "     1. **name.basics.tsv**: contains info about people, including names, professions, etc.\n",
    "    \n",
    "     2. **title.akas.tsv**: contains the titles of movies in different languages\n",
    "    \n",
    "     3. **title.basics.tsv**: contains info about all movies, tv shows\n",
    "    \n",
    "     4. **title.crew.tsv**: contains info about the crew\n",
    "    \n",
    "     5. **title.episode.tsv**: contains info about the episode of the tv shows\n",
    "    \n",
    "     6. **Title.principals.tsv (2.4GB)**: contains info about the principal cast of the movies\n",
    "    \n",
    "     7. **title.ratings.tsv**: contains ratings of all movies, tv shows\n",
    "\n",
    "\n",
    "* Data Cleaning: We processed the data for preventing pollution on test data.\n",
    "\n",
    "    Especially **name.basics.tsv**, **title.basics.tsv**, **Title.principals.tsv (2.4GB)**, **title.ratings.tsv**.\n",
    "    \n",
    "    \n",
    "* Creating Database and  merge the data"
   ]
  },
  {
   "cell_type": "markdown",
   "metadata": {},
   "source": [
    "## Part III:Exploratory Analysis and Visualization\n",
    "In this section we will analyze the cleaned data. The goal is to identify the features that are most relevant for movie ratings. In this process we will use some visualizations to help the analysis."
   ]
  },
  {
   "cell_type": "markdown",
   "metadata": {},
   "source": [
    "### Part III (1):Checking the dataframe and choosing factors\n",
    "First, we import the cleaned dataset. The whole dataset has 12 factors as well as over 400,000 movie data."
   ]
  },
  {
   "cell_type": "code",
   "execution_count": 2,
   "metadata": {},
   "outputs": [
    {
     "data": {
      "text/html": [
       "<div>\n",
       "<style scoped>\n",
       "    .dataframe tbody tr th:only-of-type {\n",
       "        vertical-align: middle;\n",
       "    }\n",
       "\n",
       "    .dataframe tbody tr th {\n",
       "        vertical-align: top;\n",
       "    }\n",
       "\n",
       "    .dataframe thead th {\n",
       "        text-align: right;\n",
       "    }\n",
       "</style>\n",
       "<table border=\"1\" class=\"dataframe\">\n",
       "  <thead>\n",
       "    <tr style=\"text-align: right;\">\n",
       "      <th></th>\n",
       "      <th>Unnamed: 0</th>\n",
       "      <th>tconst</th>\n",
       "      <th>nconst</th>\n",
       "      <th>category</th>\n",
       "      <th>averageRating</th>\n",
       "      <th>numVotes</th>\n",
       "      <th>primaryTitle</th>\n",
       "      <th>isAdult</th>\n",
       "      <th>startYear</th>\n",
       "      <th>runtimeMinutes</th>\n",
       "      <th>genres</th>\n",
       "      <th>primaryName</th>\n",
       "    </tr>\n",
       "  </thead>\n",
       "  <tbody>\n",
       "    <tr>\n",
       "      <th>0</th>\n",
       "      <td>92759</td>\n",
       "      <td>tt0013274</td>\n",
       "      <td>nm0412842</td>\n",
       "      <td>director</td>\n",
       "      <td>6.7</td>\n",
       "      <td>48</td>\n",
       "      <td>Istoriya grazhdanskoy voyny</td>\n",
       "      <td>0</td>\n",
       "      <td>2021</td>\n",
       "      <td>133</td>\n",
       "      <td>Documentary</td>\n",
       "      <td>Nikolai Izvolov</td>\n",
       "    </tr>\n",
       "    <tr>\n",
       "      <th>1</th>\n",
       "      <td>92760</td>\n",
       "      <td>tt0013274</td>\n",
       "      <td>nm0895048</td>\n",
       "      <td>director</td>\n",
       "      <td>6.7</td>\n",
       "      <td>48</td>\n",
       "      <td>Istoriya grazhdanskoy voyny</td>\n",
       "      <td>0</td>\n",
       "      <td>2021</td>\n",
       "      <td>133</td>\n",
       "      <td>Documentary</td>\n",
       "      <td>Dziga Vertov</td>\n",
       "    </tr>\n",
       "    <tr>\n",
       "      <th>2</th>\n",
       "      <td>522892</td>\n",
       "      <td>tt0062336</td>\n",
       "      <td>nm0815612</td>\n",
       "      <td>actor</td>\n",
       "      <td>6.4</td>\n",
       "      <td>164</td>\n",
       "      <td>The Tango of the Widower and Its Distorting Mi...</td>\n",
       "      <td>0</td>\n",
       "      <td>2020</td>\n",
       "      <td>70</td>\n",
       "      <td>Drama</td>\n",
       "      <td>Rubén Sotoconil</td>\n",
       "    </tr>\n",
       "    <tr>\n",
       "      <th>3</th>\n",
       "      <td>522893</td>\n",
       "      <td>tt0062336</td>\n",
       "      <td>nm1860495</td>\n",
       "      <td>actress</td>\n",
       "      <td>6.4</td>\n",
       "      <td>164</td>\n",
       "      <td>The Tango of the Widower and Its Distorting Mi...</td>\n",
       "      <td>0</td>\n",
       "      <td>2020</td>\n",
       "      <td>70</td>\n",
       "      <td>Drama</td>\n",
       "      <td>Claudia Paz</td>\n",
       "    </tr>\n",
       "    <tr>\n",
       "      <th>4</th>\n",
       "      <td>522894</td>\n",
       "      <td>tt0062336</td>\n",
       "      <td>nm0016013</td>\n",
       "      <td>actor</td>\n",
       "      <td>6.4</td>\n",
       "      <td>164</td>\n",
       "      <td>The Tango of the Widower and Its Distorting Mi...</td>\n",
       "      <td>0</td>\n",
       "      <td>2020</td>\n",
       "      <td>70</td>\n",
       "      <td>Drama</td>\n",
       "      <td>Luis Alarcón</td>\n",
       "    </tr>\n",
       "    <tr>\n",
       "      <th>...</th>\n",
       "      <td>...</td>\n",
       "      <td>...</td>\n",
       "      <td>...</td>\n",
       "      <td>...</td>\n",
       "      <td>...</td>\n",
       "      <td>...</td>\n",
       "      <td>...</td>\n",
       "      <td>...</td>\n",
       "      <td>...</td>\n",
       "      <td>...</td>\n",
       "      <td>...</td>\n",
       "      <td>...</td>\n",
       "    </tr>\n",
       "    <tr>\n",
       "      <th>404310</th>\n",
       "      <td>54610727</td>\n",
       "      <td>tt9916730</td>\n",
       "      <td>nm6096005</td>\n",
       "      <td>actor</td>\n",
       "      <td>8.3</td>\n",
       "      <td>10</td>\n",
       "      <td>6 Gunn</td>\n",
       "      <td>0</td>\n",
       "      <td>2017</td>\n",
       "      <td>116</td>\n",
       "      <td>\\N</td>\n",
       "      <td>Devadhar Archit</td>\n",
       "    </tr>\n",
       "    <tr>\n",
       "      <th>404311</th>\n",
       "      <td>54610728</td>\n",
       "      <td>tt9916730</td>\n",
       "      <td>nm0059461</td>\n",
       "      <td>actor</td>\n",
       "      <td>8.3</td>\n",
       "      <td>10</td>\n",
       "      <td>6 Gunn</td>\n",
       "      <td>0</td>\n",
       "      <td>2017</td>\n",
       "      <td>116</td>\n",
       "      <td>\\N</td>\n",
       "      <td>Sunil Barve</td>\n",
       "    </tr>\n",
       "    <tr>\n",
       "      <th>404312</th>\n",
       "      <td>54610729</td>\n",
       "      <td>tt9916730</td>\n",
       "      <td>nm13233318</td>\n",
       "      <td>actor</td>\n",
       "      <td>8.3</td>\n",
       "      <td>10</td>\n",
       "      <td>6 Gunn</td>\n",
       "      <td>0</td>\n",
       "      <td>2017</td>\n",
       "      <td>116</td>\n",
       "      <td>\\N</td>\n",
       "      <td>Ganesh Vasant Patil</td>\n",
       "    </tr>\n",
       "    <tr>\n",
       "      <th>404313</th>\n",
       "      <td>54610730</td>\n",
       "      <td>tt9916730</td>\n",
       "      <td>nm4852679</td>\n",
       "      <td>actor</td>\n",
       "      <td>8.3</td>\n",
       "      <td>10</td>\n",
       "      <td>6 Gunn</td>\n",
       "      <td>0</td>\n",
       "      <td>2017</td>\n",
       "      <td>116</td>\n",
       "      <td>\\N</td>\n",
       "      <td>Bhushan Pradhan</td>\n",
       "    </tr>\n",
       "    <tr>\n",
       "      <th>404314</th>\n",
       "      <td>54610731</td>\n",
       "      <td>tt9916730</td>\n",
       "      <td>nm10538612</td>\n",
       "      <td>director</td>\n",
       "      <td>8.3</td>\n",
       "      <td>10</td>\n",
       "      <td>6 Gunn</td>\n",
       "      <td>0</td>\n",
       "      <td>2017</td>\n",
       "      <td>116</td>\n",
       "      <td>\\N</td>\n",
       "      <td>Kiran Gawade</td>\n",
       "    </tr>\n",
       "  </tbody>\n",
       "</table>\n",
       "<p>404315 rows × 12 columns</p>\n",
       "</div>"
      ],
      "text/plain": [
       "        Unnamed: 0     tconst      nconst  category  averageRating  numVotes  \\\n",
       "0            92759  tt0013274   nm0412842  director            6.7        48   \n",
       "1            92760  tt0013274   nm0895048  director            6.7        48   \n",
       "2           522892  tt0062336   nm0815612     actor            6.4       164   \n",
       "3           522893  tt0062336   nm1860495   actress            6.4       164   \n",
       "4           522894  tt0062336   nm0016013     actor            6.4       164   \n",
       "...            ...        ...         ...       ...            ...       ...   \n",
       "404310    54610727  tt9916730   nm6096005     actor            8.3        10   \n",
       "404311    54610728  tt9916730   nm0059461     actor            8.3        10   \n",
       "404312    54610729  tt9916730  nm13233318     actor            8.3        10   \n",
       "404313    54610730  tt9916730   nm4852679     actor            8.3        10   \n",
       "404314    54610731  tt9916730  nm10538612  director            8.3        10   \n",
       "\n",
       "                                             primaryTitle  isAdult  startYear  \\\n",
       "0                             Istoriya grazhdanskoy voyny        0       2021   \n",
       "1                             Istoriya grazhdanskoy voyny        0       2021   \n",
       "2       The Tango of the Widower and Its Distorting Mi...        0       2020   \n",
       "3       The Tango of the Widower and Its Distorting Mi...        0       2020   \n",
       "4       The Tango of the Widower and Its Distorting Mi...        0       2020   \n",
       "...                                                   ...      ...        ...   \n",
       "404310                                             6 Gunn        0       2017   \n",
       "404311                                             6 Gunn        0       2017   \n",
       "404312                                             6 Gunn        0       2017   \n",
       "404313                                             6 Gunn        0       2017   \n",
       "404314                                             6 Gunn        0       2017   \n",
       "\n",
       "       runtimeMinutes       genres          primaryName  \n",
       "0                 133  Documentary      Nikolai Izvolov  \n",
       "1                 133  Documentary         Dziga Vertov  \n",
       "2                  70        Drama      Rubén Sotoconil  \n",
       "3                  70        Drama          Claudia Paz  \n",
       "4                  70        Drama         Luis Alarcón  \n",
       "...               ...          ...                  ...  \n",
       "404310            116           \\N      Devadhar Archit  \n",
       "404311            116           \\N          Sunil Barve  \n",
       "404312            116           \\N  Ganesh Vasant Patil  \n",
       "404313            116           \\N      Bhushan Pradhan  \n",
       "404314            116           \\N         Kiran Gawade  \n",
       "\n",
       "[404315 rows x 12 columns]"
      ]
     },
     "execution_count": 2,
     "metadata": {},
     "output_type": "execute_result"
    }
   ],
   "source": [
    "imdb = pd.read_csv('imdb.csv')\n",
    "imdb"
   ]
  },
  {
   "cell_type": "markdown",
   "metadata": {},
   "source": [
    "In our project, ratings are the most important indicator of a film's popularity. So we can start by looking at the specific data of the ratings."
   ]
  },
  {
   "cell_type": "code",
   "execution_count": 5,
   "metadata": {},
   "outputs": [
    {
     "data": {
      "text/plain": [
       "count    404315.000000\n",
       "mean          6.057180\n",
       "std           1.522904\n",
       "min           1.000000\n",
       "25%           5.100000\n",
       "50%           6.200000\n",
       "75%           7.100000\n",
       "max          10.000000\n",
       "Name: averageRating, dtype: float64"
      ]
     },
     "execution_count": 5,
     "metadata": {},
     "output_type": "execute_result"
    }
   ],
   "source": [
    "imdb.averageRating.describe()"
   ]
  },
  {
   "cell_type": "markdown",
   "metadata": {},
   "source": [
    "In our data set, we can see that the average rating is around 6.0 and the median is 6.2. And most scores are between 5.1 and 7.1. This will affect our next specific rating of the movie's popularity. For now, we will make the following scale of popularity: \n",
    "- Very Positive(>7.1)\n",
    "- Mostly Positive(6.0-7.1)\n",
    "- Mostly nagative(5.1-6.0)\n",
    "- Very Nagative(<5.1)\n",
    "\n",
    "Then, let's explore which factors are strongly correlated with the scores, which will greatly help our machine learning model to make predictions:"
   ]
  },
  {
   "cell_type": "code",
   "execution_count": 6,
   "metadata": {},
   "outputs": [
    {
     "data": {
      "text/plain": [
       "['Unnamed: 0',\n",
       " 'tconst',\n",
       " 'nconst',\n",
       " 'category',\n",
       " 'averageRating',\n",
       " 'numVotes',\n",
       " 'primaryTitle',\n",
       " 'isAdult',\n",
       " 'startYear',\n",
       " 'runtimeMinutes',\n",
       " 'genres',\n",
       " 'primaryName']"
      ]
     },
     "execution_count": 6,
     "metadata": {},
     "output_type": "execute_result"
    }
   ],
   "source": [
    "# Check how many factors our data set have\n",
    "imdb.columns.values.tolist()"
   ]
  },
  {
   "cell_type": "markdown",
   "metadata": {},
   "source": [
    "It can be clearly observed that the first 3 factors are only represent  the movie or the actor/director. So we can exclude these 3 factors.And **averageRating**, **numVotes**, **isAdult**, **startYear** and **runtimeMinutes** are very good quantifiable data. genres would also be one of the factors that could have a significant impact. So we will analyze these factors next."
   ]
  },
  {
   "cell_type": "markdown",
   "metadata": {},
   "source": [
    "### Part III (2): Visualization and Final factor choosing\n",
    "After identifying the factors that we need to focus on, we can visualize these factors to find the ones that we will eventually use in our model.In this regard, we will explore the relationship of a little：\n",
    " - **Average rating** and **number of votes**\n",
    " - **Average rating** and **Aldut/Not Aldut**\n",
    " - **Average rating** and **film release year**"
   ]
  },
  {
   "cell_type": "code",
   "execution_count": 7,
   "metadata": {},
   "outputs": [
    {
     "data": {
      "text/plain": [
       "Text(0.5, 1.0, 'The distribution of  average rating')"
      ]
     },
     "execution_count": 7,
     "metadata": {},
     "output_type": "execute_result"
    },
    {
     "data": {
      "image/png": "[encoded data removed]",
      "text/plain": [
       "<Figure size 864x432 with 1 Axes>"
      ]
     },
     "metadata": {
      "needs_background": "light"
     },
     "output_type": "display_data"
    }
   ],
   "source": [
    "plt.figure(figsize=(12, 6))\n",
    "sns.kdeplot(imdb['averageRating'])\n",
    "plt.title('The distribution of  average rating', fontsize=20, weight='bold', color='black')"
   ]
  }
 ],
 "metadata": {
  "kernelspec": {
   "display_name": "Python 3",
   "language": "python",
   "name": "python3"
  },
  "language_info": {
   "codemirror_mode": {
    "name": "ipython",
    "version": 3
   },
   "file_extension": ".py",
   "mimetype": "text/x-python",
   "name": "python",
   "nbconvert_exporter": "python",
   "pygments_lexer": "ipython3",
   "version": "3.8.5"
  }
 },
 "nbformat": 4,
 "nbformat_minor": 4
}
