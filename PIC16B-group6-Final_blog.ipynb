{
 "cells": [
  {
   "cell_type": "raw",
   "metadata": {},
   "source": [
    "---\n",
    "title: \"Prediction of Movies' Performance based on IMDb data\"\n",
    "author: \" Prject(Group 6):  Joanne Qu, Zhitong Zhou, Zhe Shen\"\n",
    "date: \"2023-03-20\"\n",
    "categories: [Week 10]\n",
    "---"
   ]
  },
  {
   "cell_type": "markdown",
   "metadata": {},
   "source": [
    "## Part I: Introduction and Overview"
   ]
  },
  {
   "cell_type": "markdown",
   "metadata": {},
   "source": [
    "The movie industry is a complex and competitive field, and predicting the success of an upcoming movie is a challenging task. However, with the advancements in data science and machine learning, it is now possible to use data to build models that can accurately predict the commercial success of a movie. In this project, we will leverage the IMDb database to build an algorithm that can predict whether an upcoming movie will be commercially successful or not.\n",
    "\n",
    "To build our algorithm, we will first collect and clean the data using SQL and Python. We will then perform exploratory data analysis to identify the features that are most strongly correlated with commercial success. These features could include the genre, production year, length, production budget, and marketing spend. We will then use machine learning algorithms such as logistic regression, decision trees, and random forests to build our prediction model.\n",
    "\n",
    "The ultimate goal of this project is to build an accurate and reliable prediction model that can be used by production companies, investors, and other stakeholders to make informed decisions about which movies to invest in. By accurately predicting the commercial success of upcoming movies, we can reduce the risk associated with movie production and distribution, and increase the chances of producing movies that will resonate with audiences and generate substantial profits.\n",
    "\n",
    "Here is the link to our github repository: https://github.com/ZheShen00/PIC16B-23W-project-group6"
   ]
  },
  {
   "cell_type": "markdown",
   "metadata": {},
   "source": [
    "#### Our Process\n",
    "\n",
    "Collecting Data --> Cleaning and Making Database --> Modeling --> Making Predctions --> Conclusion\n"
   ]
  },
  {
   "cell_type": "code",
   "execution_count": 1,
   "metadata": {},
   "outputs": [],
   "source": [
    "# These are all libraries we will use in this project\n",
    "import pandas as pd\n",
    "import sqlite3\n",
    "import numpy as np\n",
    "import matplotlib.pyplot as plt\n",
    "import seaborn as sns"
   ]
  },
  {
   "cell_type": "markdown",
   "metadata": {},
   "source": [
    "## Part II: Data Collection and Cleaning\n",
    "\n",
    "There is a very famous saying that is repeated by data scientists: \"Garbage in, garbage out.\". So the process of data collection and cleaning will be one of the most important parts of our work.We will do the following in this section：\n",
    "\n",
    "* We will collect the data from [IMDb](https://www.imdb.com/interfaces/) by `Scrapy`: **imdb.csv** and receive:\n",
    "\n",
    "     1. **name.basics.tsv**: contains info about people, including names, professions, etc.\n",
    "    \n",
    "     2. **title.akas.tsv**: contains the titles of movies in different languages\n",
    "    \n",
    "     3. **title.basics.tsv**: contains info about all movies, tv shows\n",
    "    \n",
    "     4. **title.crew.tsv**: contains info about the crew\n",
    "    \n",
    "     5. **title.episode.tsv**: contains info about the episode of the tv shows\n",
    "    \n",
    "     6. **Title.principals.tsv (2.4GB)**: contains info about the principal cast of the movies\n",
    "    \n",
    "     7. **title.ratings.tsv**: contains ratings of all movies, tv shows\n",
    "\n",
    "\n",
    "* Data Cleaning: We processed the data for preventing pollution on test data.\n",
    "\n",
    "    Especially **name.basics.tsv**, **title.basics.tsv**, **Title.principals.tsv (2.4GB)**, **title.ratings.tsv**.\n",
    "    \n",
    "    \n",
    "* Creating Database and  merge the data\n",
    "\n",
    "     We created a IMDb database which includes four pandas dataframes named **name, basics, ratings, principals**.\n",
    "     After putting all the data into a database, it allow us to query and sort data more efficiently.\n",
    "        \n",
    "     The `principals` table is joined with the `ratings`, `basics`, and `name` tables based on matching values in their respective columns named `tconst` and `nconst`. The Query function is merging information about people who worked on the same movie or TV show from four different tables into a single table that contains information about the movie or TV show itself, the people involved in making it, and their ratings.\n",
    "     \n",
    "     After Dropping Duplicated columns in the merged dataframe, we obtain the final IMDb dataset. Which containing **404,315** rows and **12** columns."
   ]
  },
  {
   "cell_type": "markdown",
   "metadata": {},
   "source": [
    "## Part III:Exploratory Analysis and Visualization\n",
    "In this section we will analyze the cleaned data. The goal is to identify the features that are most relevant for movie ratings. In this process we will use some visualizations to help the analysis."
   ]
  },
  {
   "cell_type": "markdown",
   "metadata": {},
   "source": [
    "### Part III (1):Checking the dataframe and choosing factors\n",
    "First, we import the cleaned dataset. The whole dataset has 12 factors as well as over 400,000 movie data."
   ]
  },
  {
   "cell_type": "code",
   "execution_count": 2,
   "metadata": {},
   "outputs": [
    {
     "data": {
      "text/html": [
       "<div>\n",
       "<style scoped>\n",
       "    .dataframe tbody tr th:only-of-type {\n",
       "        vertical-align: middle;\n",
       "    }\n",
       "\n",
       "    .dataframe tbody tr th {\n",
       "        vertical-align: top;\n",
       "    }\n",
       "\n",
       "    .dataframe thead th {\n",
       "        text-align: right;\n",
       "    }\n",
       "</style>\n",
       "<table border=\"1\" class=\"dataframe\">\n",
       "  <thead>\n",
       "    <tr style=\"text-align: right;\">\n",
       "      <th></th>\n",
       "      <th>Unnamed: 0</th>\n",
       "      <th>tconst</th>\n",
       "      <th>nconst</th>\n",
       "      <th>category</th>\n",
       "      <th>averageRating</th>\n",
       "      <th>numVotes</th>\n",
       "      <th>primaryTitle</th>\n",
       "      <th>isAdult</th>\n",
       "      <th>startYear</th>\n",
       "      <th>runtimeMinutes</th>\n",
       "      <th>genres</th>\n",
       "      <th>primaryName</th>\n",
       "    </tr>\n",
       "  </thead>\n",
       "  <tbody>\n",
       "    <tr>\n",
       "      <th>0</th>\n",
       "      <td>92759</td>\n",
       "      <td>tt0013274</td>\n",
       "      <td>nm0412842</td>\n",
       "      <td>director</td>\n",
       "      <td>6.7</td>\n",
       "      <td>48</td>\n",
       "      <td>Istoriya grazhdanskoy voyny</td>\n",
       "      <td>0</td>\n",
       "      <td>2021</td>\n",
       "      <td>133</td>\n",
       "      <td>Documentary</td>\n",
       "      <td>Nikolai Izvolov</td>\n",
       "    </tr>\n",
       "    <tr>\n",
       "      <th>1</th>\n",
       "      <td>92760</td>\n",
       "      <td>tt0013274</td>\n",
       "      <td>nm0895048</td>\n",
       "      <td>director</td>\n",
       "      <td>6.7</td>\n",
       "      <td>48</td>\n",
       "      <td>Istoriya grazhdanskoy voyny</td>\n",
       "      <td>0</td>\n",
       "      <td>2021</td>\n",
       "      <td>133</td>\n",
       "      <td>Documentary</td>\n",
       "      <td>Dziga Vertov</td>\n",
       "    </tr>\n",
       "    <tr>\n",
       "      <th>2</th>\n",
       "      <td>522892</td>\n",
       "      <td>tt0062336</td>\n",
       "      <td>nm0815612</td>\n",
       "      <td>actor</td>\n",
       "      <td>6.4</td>\n",
       "      <td>164</td>\n",
       "      <td>The Tango of the Widower and Its Distorting Mi...</td>\n",
       "      <td>0</td>\n",
       "      <td>2020</td>\n",
       "      <td>70</td>\n",
       "      <td>Drama</td>\n",
       "      <td>Rubén Sotoconil</td>\n",
       "    </tr>\n",
       "    <tr>\n",
       "      <th>3</th>\n",
       "      <td>522893</td>\n",
       "      <td>tt0062336</td>\n",
       "      <td>nm1860495</td>\n",
       "      <td>actress</td>\n",
       "      <td>6.4</td>\n",
       "      <td>164</td>\n",
       "      <td>The Tango of the Widower and Its Distorting Mi...</td>\n",
       "      <td>0</td>\n",
       "      <td>2020</td>\n",
       "      <td>70</td>\n",
       "      <td>Drama</td>\n",
       "      <td>Claudia Paz</td>\n",
       "    </tr>\n",
       "    <tr>\n",
       "      <th>4</th>\n",
       "      <td>522894</td>\n",
       "      <td>tt0062336</td>\n",
       "      <td>nm0016013</td>\n",
       "      <td>actor</td>\n",
       "      <td>6.4</td>\n",
       "      <td>164</td>\n",
       "      <td>The Tango of the Widower and Its Distorting Mi...</td>\n",
       "      <td>0</td>\n",
       "      <td>2020</td>\n",
       "      <td>70</td>\n",
       "      <td>Drama</td>\n",
       "      <td>Luis Alarcón</td>\n",
       "    </tr>\n",
       "    <tr>\n",
       "      <th>...</th>\n",
       "      <td>...</td>\n",
       "      <td>...</td>\n",
       "      <td>...</td>\n",
       "      <td>...</td>\n",
       "      <td>...</td>\n",
       "      <td>...</td>\n",
       "      <td>...</td>\n",
       "      <td>...</td>\n",
       "      <td>...</td>\n",
       "      <td>...</td>\n",
       "      <td>...</td>\n",
       "      <td>...</td>\n",
       "    </tr>\n",
       "    <tr>\n",
       "      <th>404310</th>\n",
       "      <td>54610727</td>\n",
       "      <td>tt9916730</td>\n",
       "      <td>nm6096005</td>\n",
       "      <td>actor</td>\n",
       "      <td>8.3</td>\n",
       "      <td>10</td>\n",
       "      <td>6 Gunn</td>\n",
       "      <td>0</td>\n",
       "      <td>2017</td>\n",
       "      <td>116</td>\n",
       "      <td>\\N</td>\n",
       "      <td>Devadhar Archit</td>\n",
       "    </tr>\n",
       "    <tr>\n",
       "      <th>404311</th>\n",
       "      <td>54610728</td>\n",
       "      <td>tt9916730</td>\n",
       "      <td>nm0059461</td>\n",
       "      <td>actor</td>\n",
       "      <td>8.3</td>\n",
       "      <td>10</td>\n",
       "      <td>6 Gunn</td>\n",
       "      <td>0</td>\n",
       "      <td>2017</td>\n",
       "      <td>116</td>\n",
       "      <td>\\N</td>\n",
       "      <td>Sunil Barve</td>\n",
       "    </tr>\n",
       "    <tr>\n",
       "      <th>404312</th>\n",
       "      <td>54610729</td>\n",
       "      <td>tt9916730</td>\n",
       "      <td>nm13233318</td>\n",
       "      <td>actor</td>\n",
       "      <td>8.3</td>\n",
       "      <td>10</td>\n",
       "      <td>6 Gunn</td>\n",
       "      <td>0</td>\n",
       "      <td>2017</td>\n",
       "      <td>116</td>\n",
       "      <td>\\N</td>\n",
       "      <td>Ganesh Vasant Patil</td>\n",
       "    </tr>\n",
       "    <tr>\n",
       "      <th>404313</th>\n",
       "      <td>54610730</td>\n",
       "      <td>tt9916730</td>\n",
       "      <td>nm4852679</td>\n",
       "      <td>actor</td>\n",
       "      <td>8.3</td>\n",
       "      <td>10</td>\n",
       "      <td>6 Gunn</td>\n",
       "      <td>0</td>\n",
       "      <td>2017</td>\n",
       "      <td>116</td>\n",
       "      <td>\\N</td>\n",
       "      <td>Bhushan Pradhan</td>\n",
       "    </tr>\n",
       "    <tr>\n",
       "      <th>404314</th>\n",
       "      <td>54610731</td>\n",
       "      <td>tt9916730</td>\n",
       "      <td>nm10538612</td>\n",
       "      <td>director</td>\n",
       "      <td>8.3</td>\n",
       "      <td>10</td>\n",
       "      <td>6 Gunn</td>\n",
       "      <td>0</td>\n",
       "      <td>2017</td>\n",
       "      <td>116</td>\n",
       "      <td>\\N</td>\n",
       "      <td>Kiran Gawade</td>\n",
       "    </tr>\n",
       "  </tbody>\n",
       "</table>\n",
       "<p>404315 rows × 12 columns</p>\n",
       "</div>"
      ],
      "text/plain": [
       "        Unnamed: 0     tconst      nconst  category  averageRating  numVotes  \\\n",
       "0            92759  tt0013274   nm0412842  director            6.7        48   \n",
       "1            92760  tt0013274   nm0895048  director            6.7        48   \n",
       "2           522892  tt0062336   nm0815612     actor            6.4       164   \n",
       "3           522893  tt0062336   nm1860495   actress            6.4       164   \n",
       "4           522894  tt0062336   nm0016013     actor            6.4       164   \n",
       "...            ...        ...         ...       ...            ...       ...   \n",
       "404310    54610727  tt9916730   nm6096005     actor            8.3        10   \n",
       "404311    54610728  tt9916730   nm0059461     actor            8.3        10   \n",
       "404312    54610729  tt9916730  nm13233318     actor            8.3        10   \n",
       "404313    54610730  tt9916730   nm4852679     actor            8.3        10   \n",
       "404314    54610731  tt9916730  nm10538612  director            8.3        10   \n",
       "\n",
       "                                             primaryTitle  isAdult  startYear  \\\n",
       "0                             Istoriya grazhdanskoy voyny        0       2021   \n",
       "1                             Istoriya grazhdanskoy voyny        0       2021   \n",
       "2       The Tango of the Widower and Its Distorting Mi...        0       2020   \n",
       "3       The Tango of the Widower and Its Distorting Mi...        0       2020   \n",
       "4       The Tango of the Widower and Its Distorting Mi...        0       2020   \n",
       "...                                                   ...      ...        ...   \n",
       "404310                                             6 Gunn        0       2017   \n",
       "404311                                             6 Gunn        0       2017   \n",
       "404312                                             6 Gunn        0       2017   \n",
       "404313                                             6 Gunn        0       2017   \n",
       "404314                                             6 Gunn        0       2017   \n",
       "\n",
       "       runtimeMinutes       genres          primaryName  \n",
       "0                 133  Documentary      Nikolai Izvolov  \n",
       "1                 133  Documentary         Dziga Vertov  \n",
       "2                  70        Drama      Rubén Sotoconil  \n",
       "3                  70        Drama          Claudia Paz  \n",
       "4                  70        Drama         Luis Alarcón  \n",
       "...               ...          ...                  ...  \n",
       "404310            116           \\N      Devadhar Archit  \n",
       "404311            116           \\N          Sunil Barve  \n",
       "404312            116           \\N  Ganesh Vasant Patil  \n",
       "404313            116           \\N      Bhushan Pradhan  \n",
       "404314            116           \\N         Kiran Gawade  \n",
       "\n",
       "[404315 rows x 12 columns]"
      ]
     },
     "execution_count": 2,
     "metadata": {},
     "output_type": "execute_result"
    }
   ],
   "source": [
    "imdb = pd.read_csv('imdb.csv')\n",
    "imdb"
   ]
  },
  {
   "cell_type": "markdown",
   "metadata": {},
   "source": [
    "In our project, ratings are the most important indicator of a film's popularity. So we can start by looking at the specific data of the ratings."
   ]
  },
  {
   "cell_type": "code",
   "execution_count": 3,
   "metadata": {},
   "outputs": [
    {
     "data": {
      "text/plain": [
       "count    404315.000000\n",
       "mean          6.057180\n",
       "std           1.522904\n",
       "min           1.000000\n",
       "25%           5.100000\n",
       "50%           6.200000\n",
       "75%           7.100000\n",
       "max          10.000000\n",
       "Name: averageRating, dtype: float64"
      ]
     },
     "execution_count": 3,
     "metadata": {},
     "output_type": "execute_result"
    }
   ],
   "source": [
    "imdb.averageRating.describe()"
   ]
  },
  {
   "cell_type": "markdown",
   "metadata": {},
   "source": [
    "In our data set, we can see that the average rating is around 6.0 and the median is 6.2. And most scores are between 5.1 and 7.1. This will affect our next specific rating of the movie's popularity. For now, we will make the following scale of popularity: \n",
    "- Very Positive(>7.1)\n",
    "- Mostly Positive(6.0-7.1)\n",
    "- Mostly nagative(5.1-6.0)\n",
    "- Very Nagative(<5.1)\n",
    "\n",
    "Then, let's explore which factors are strongly correlated with the scores, which will greatly help our machine learning model to make predictions:"
   ]
  },
  {
   "cell_type": "code",
   "execution_count": 4,
   "metadata": {},
   "outputs": [
    {
     "data": {
      "text/plain": [
       "['Unnamed: 0',\n",
       " 'tconst',\n",
       " 'nconst',\n",
       " 'category',\n",
       " 'averageRating',\n",
       " 'numVotes',\n",
       " 'primaryTitle',\n",
       " 'isAdult',\n",
       " 'startYear',\n",
       " 'runtimeMinutes',\n",
       " 'genres',\n",
       " 'primaryName']"
      ]
     },
     "execution_count": 4,
     "metadata": {},
     "output_type": "execute_result"
    }
   ],
   "source": [
    "# Check how many factors our data set have\n",
    "imdb.columns.values.tolist()"
   ]
  },
  {
   "cell_type": "markdown",
   "metadata": {},
   "source": [
    "It can be clearly observed that the first 3 factors are only represent  the movie or the actor/director. So we can exclude these 3 factors.And **averageRating**, **numVotes**, **isAdult** and **startYear** are very good quantifiable data. **genres** would also be one of the factors that could have a significant impact. So we will analyze these factors next."
   ]
  },
  {
   "cell_type": "markdown",
   "metadata": {},
   "source": [
    "### Part III (2): Visualization and Final factor choosing\n",
    "After identifying the factors that we need to focus on, we can visualize these factors to find the ones that we will eventually use in our model.In this regard, we will explore the relationship of these：\n",
    " - **Average rating** and **number of votes**\n",
    " - **Average rating** and **Aldut/Not Aldut**\n",
    " - **Average rating** and **film release year**\n",
    " - **Average rating** and **genres**\n",
    " \n",
    "Firstly, let's check the distribution of average rating:"
   ]
  },
  {
   "cell_type": "code",
   "execution_count": 5,
   "metadata": {},
   "outputs": [
    {
     "data": {
      "text/plain": [
       "Text(0.5, 1.0, 'The distribution of  average rating')"
      ]
     },
     "execution_count": 5,
     "metadata": {},
     "output_type": "execute_result"
    },
    {
     "data": {
      "image/png": "[encoded data removed]",
      "text/plain": [
       "<Figure size 864x432 with 1 Axes>"
      ]
     },
     "metadata": {
      "needs_background": "light"
     },
     "output_type": "display_data"
    }
   ],
   "source": [
    "plt.figure(figsize=(12, 6))\n",
    "sns.kdeplot(imdb['averageRating'])\n",
    "plt.title('The distribution of  average rating', fontsize=20, weight='bold', color='black')"
   ]
  },
  {
   "cell_type": "markdown",
   "metadata": {},
   "source": [
    "Now we know the situation of the average rating which can help us to compare with another factor."
   ]
  },
  {
   "cell_type": "code",
   "execution_count": 6,
   "metadata": {},
   "outputs": [
    {
     "data": {
      "image/png": "[encoded data removed]",
      "text/plain": [
       "<Figure size 720x576 with 1 Axes>"
      ]
     },
     "metadata": {
      "needs_background": "light"
     },
     "output_type": "display_data"
    }
   ],
   "source": [
    "plt.figure(figsize=(10, 8))\n",
    "plt.scatter(imdb['numVotes'], imdb['averageRating'], s=10, c='red')\n",
    "plt.title('the relationship between number of votes and rating', fontsize=16, weight='bold')\n",
    "plt.show()"
   ]
  },
  {
   "cell_type": "markdown",
   "metadata": {},
   "source": [
    "This is the relationship between number of votes and rating. And we can see, the scatterplot presents an uncorrelated feature. However, we can observe that a large number of votes occurs around a rating of 8.0. This means that good movies are more likely to receive a large number of ratings. But the number of votes is statistically uncorrelated for ratings. Generally, we can't use number of votes in our machine learning model to predict."
   ]
  },
  {
   "cell_type": "code",
   "execution_count": 7,
   "metadata": {},
   "outputs": [
    {
     "data": {
      "image/png": "[encoded data removed]",
      "text/plain": [
       "<Figure size 576x576 with 1 Axes>"
      ]
     },
     "metadata": {
      "needs_background": "light"
     },
     "output_type": "display_data"
    }
   ],
   "source": [
    "plt.figure(figsize=(8, 8))\n",
    "sns.boxplot(x=\"isAdult\", y=\"averageRating\", data=imdb, linewidth=1.5)\n",
    "plt.title('The distribution of Rating and Aldut/Not Aldut',fontsize=20, weight='bold')\n",
    "plt.show()"
   ]
  },
  {
   "cell_type": "code",
   "execution_count": 8,
   "metadata": {},
   "outputs": [
    {
     "data": {
      "text/plain": [
       "count    404315.000000\n",
       "mean          0.000893\n",
       "std           0.029868\n",
       "min           0.000000\n",
       "25%           0.000000\n",
       "50%           0.000000\n",
       "75%           0.000000\n",
       "max           1.000000\n",
       "Name: isAdult, dtype: float64"
      ]
     },
     "execution_count": 8,
     "metadata": {},
     "output_type": "execute_result"
    }
   ],
   "source": [
    "imdb.isAdult.describe()"
   ]
  },
  {
   "cell_type": "markdown",
   "metadata": {},
   "source": [
    "boxplot shows that whether a movie is adult-rated or not makes big difference in terms of rating. Although not adult movie got higher mean value, the real reason is the tiny volumn of aldult movies(only 404315 times 0.000893 equal to 361). For the sake of rigor, we will not consider this factor in our machine learning models."
   ]
  },
  {
   "cell_type": "code",
   "execution_count": 9,
   "metadata": {},
   "outputs": [
    {
     "data": {
      "image/png": "[encoded data removed]",
      "text/plain": [
       "<Figure size 1440x576 with 1 Axes>"
      ]
     },
     "metadata": {
      "needs_background": "light"
     },
     "output_type": "display_data"
    }
   ],
   "source": [
    "plt.figure(figsize=(20, 8))\n",
    "sns.boxplot(x=\"startYear\", y=\"averageRating\", data=imdb, linewidth=1.5)\n",
    "plt.title('The distribution of Rating and release year',fontsize=20, weight='bold')\n",
    "plt.show()"
   ]
  },
  {
   "cell_type": "code",
   "execution_count": 10,
   "metadata": {},
   "outputs": [
    {
     "data": {
      "text/plain": [
       "<AxesSubplot:title={'center':'The distribution of film release year'}>"
      ]
     },
     "execution_count": 10,
     "metadata": {},
     "output_type": "execute_result"
    },
    {
     "data": {
      "image/png": "[encoded data removed]",
      "text/plain": [
       "<Figure size 720x432 with 1 Axes>"
      ]
     },
     "metadata": {
      "needs_background": "light"
     },
     "output_type": "display_data"
    }
   ],
   "source": [
    "df = imdb.startYear.value_counts()\n",
    "x = [i for i in df.keys()]\n",
    "y = []\n",
    "for i in range(0,11):\n",
    "    y.append(df.values[i])\n",
    "plt.figure(figsize=(10, 6))\n",
    "plt.title('The distribution of film release year', fontsize=20, weight='bold')\n",
    "sns.barplot(x=x, y=y)"
   ]
  },
  {
   "cell_type": "markdown",
   "metadata": {},
   "source": [
    "We can see that people generally have better ratings for new movies released after 2021. Despite the huge impact of the pandemic on the movie industry in 2020 resulting in a drop in the number of releases, we still have 35,000 data per year(except 2023) and the rating situation of 2020-2021 is close to 2013-2015(also the number of releasing is close). Only the movies released in 2022 both have enough number of releasing and higher rating. That means the relationship between rating and releasing year is random. So we can't consider this factor in our machine learning models."
   ]
  },
  {
   "cell_type": "markdown",
   "metadata": {},
   "source": [
    "Next, we will analysis the relationship between rating and genres. Before visualization, since our data has the relationship of multiple genres for one movie(example under below), we need to separate the different genres in each data."
   ]
  },
  {
   "cell_type": "code",
   "execution_count": 11,
   "metadata": {},
   "outputs": [
    {
     "data": {
      "text/html": [
       "<div>\n",
       "<style scoped>\n",
       "    .dataframe tbody tr th:only-of-type {\n",
       "        vertical-align: middle;\n",
       "    }\n",
       "\n",
       "    .dataframe tbody tr th {\n",
       "        vertical-align: top;\n",
       "    }\n",
       "\n",
       "    .dataframe thead th {\n",
       "        text-align: right;\n",
       "    }\n",
       "</style>\n",
       "<table border=\"1\" class=\"dataframe\">\n",
       "  <thead>\n",
       "    <tr style=\"text-align: right;\">\n",
       "      <th></th>\n",
       "      <th>Unnamed: 0</th>\n",
       "      <th>tconst</th>\n",
       "      <th>nconst</th>\n",
       "      <th>category</th>\n",
       "      <th>averageRating</th>\n",
       "      <th>numVotes</th>\n",
       "      <th>primaryTitle</th>\n",
       "      <th>isAdult</th>\n",
       "      <th>startYear</th>\n",
       "      <th>runtimeMinutes</th>\n",
       "      <th>genres</th>\n",
       "      <th>primaryName</th>\n",
       "    </tr>\n",
       "  </thead>\n",
       "  <tbody>\n",
       "    <tr>\n",
       "      <th>14</th>\n",
       "      <td>859430</td>\n",
       "      <td>tt0100275</td>\n",
       "      <td>nm0016013</td>\n",
       "      <td>actor</td>\n",
       "      <td>6.5</td>\n",
       "      <td>339</td>\n",
       "      <td>The Wandering Soap Opera</td>\n",
       "      <td>0</td>\n",
       "      <td>2017</td>\n",
       "      <td>80</td>\n",
       "      <td>Comedy,Drama,Fantasy</td>\n",
       "      <td>Luis Alarcón</td>\n",
       "    </tr>\n",
       "  </tbody>\n",
       "</table>\n",
       "</div>"
      ],
      "text/plain": [
       "    Unnamed: 0     tconst     nconst category  averageRating  numVotes  \\\n",
       "14      859430  tt0100275  nm0016013    actor            6.5       339   \n",
       "\n",
       "                primaryTitle  isAdult  startYear runtimeMinutes  \\\n",
       "14  The Wandering Soap Opera        0       2017             80   \n",
       "\n",
       "                  genres   primaryName  \n",
       "14  Comedy,Drama,Fantasy  Luis Alarcón  "
      ]
     },
     "execution_count": 11,
     "metadata": {},
     "output_type": "execute_result"
    }
   ],
   "source": [
    "# multiple genres example\n",
    "imdb.iloc[[14]]"
   ]
  },
  {
   "cell_type": "markdown",
   "metadata": {},
   "source": [
    "Now we will remake a new dataframe as below. We will receive a huge dataframe with 715617 rows."
   ]
  },
  {
   "cell_type": "code",
   "execution_count": 12,
   "metadata": {},
   "outputs": [
    {
     "data": {
      "text/html": [
       "<div>\n",
       "<style scoped>\n",
       "    .dataframe tbody tr th:only-of-type {\n",
       "        vertical-align: middle;\n",
       "    }\n",
       "\n",
       "    .dataframe tbody tr th {\n",
       "        vertical-align: top;\n",
       "    }\n",
       "\n",
       "    .dataframe thead th {\n",
       "        text-align: right;\n",
       "    }\n",
       "</style>\n",
       "<table border=\"1\" class=\"dataframe\">\n",
       "  <thead>\n",
       "    <tr style=\"text-align: right;\">\n",
       "      <th></th>\n",
       "      <th>Unnamed: 0</th>\n",
       "      <th>tconst</th>\n",
       "      <th>nconst</th>\n",
       "      <th>category</th>\n",
       "      <th>averageRating</th>\n",
       "      <th>numVotes</th>\n",
       "      <th>primaryTitle</th>\n",
       "      <th>isAdult</th>\n",
       "      <th>startYear</th>\n",
       "      <th>runtimeMinutes</th>\n",
       "      <th>primaryName</th>\n",
       "      <th>genres</th>\n",
       "    </tr>\n",
       "  </thead>\n",
       "  <tbody>\n",
       "    <tr>\n",
       "      <th>0</th>\n",
       "      <td>92759</td>\n",
       "      <td>tt0013274</td>\n",
       "      <td>nm0412842</td>\n",
       "      <td>director</td>\n",
       "      <td>6.7</td>\n",
       "      <td>48</td>\n",
       "      <td>Istoriya grazhdanskoy voyny</td>\n",
       "      <td>0</td>\n",
       "      <td>2021</td>\n",
       "      <td>133</td>\n",
       "      <td>Nikolai Izvolov</td>\n",
       "      <td>Documentary</td>\n",
       "    </tr>\n",
       "    <tr>\n",
       "      <th>1</th>\n",
       "      <td>92760</td>\n",
       "      <td>tt0013274</td>\n",
       "      <td>nm0895048</td>\n",
       "      <td>director</td>\n",
       "      <td>6.7</td>\n",
       "      <td>48</td>\n",
       "      <td>Istoriya grazhdanskoy voyny</td>\n",
       "      <td>0</td>\n",
       "      <td>2021</td>\n",
       "      <td>133</td>\n",
       "      <td>Dziga Vertov</td>\n",
       "      <td>Documentary</td>\n",
       "    </tr>\n",
       "    <tr>\n",
       "      <th>2</th>\n",
       "      <td>522892</td>\n",
       "      <td>tt0062336</td>\n",
       "      <td>nm0815612</td>\n",
       "      <td>actor</td>\n",
       "      <td>6.4</td>\n",
       "      <td>164</td>\n",
       "      <td>The Tango of the Widower and Its Distorting Mi...</td>\n",
       "      <td>0</td>\n",
       "      <td>2020</td>\n",
       "      <td>70</td>\n",
       "      <td>Rubén Sotoconil</td>\n",
       "      <td>Drama</td>\n",
       "    </tr>\n",
       "    <tr>\n",
       "      <th>3</th>\n",
       "      <td>522893</td>\n",
       "      <td>tt0062336</td>\n",
       "      <td>nm1860495</td>\n",
       "      <td>actress</td>\n",
       "      <td>6.4</td>\n",
       "      <td>164</td>\n",
       "      <td>The Tango of the Widower and Its Distorting Mi...</td>\n",
       "      <td>0</td>\n",
       "      <td>2020</td>\n",
       "      <td>70</td>\n",
       "      <td>Claudia Paz</td>\n",
       "      <td>Drama</td>\n",
       "    </tr>\n",
       "    <tr>\n",
       "      <th>4</th>\n",
       "      <td>522894</td>\n",
       "      <td>tt0062336</td>\n",
       "      <td>nm0016013</td>\n",
       "      <td>actor</td>\n",
       "      <td>6.4</td>\n",
       "      <td>164</td>\n",
       "      <td>The Tango of the Widower and Its Distorting Mi...</td>\n",
       "      <td>0</td>\n",
       "      <td>2020</td>\n",
       "      <td>70</td>\n",
       "      <td>Luis Alarcón</td>\n",
       "      <td>Drama</td>\n",
       "    </tr>\n",
       "    <tr>\n",
       "      <th>...</th>\n",
       "      <td>...</td>\n",
       "      <td>...</td>\n",
       "      <td>...</td>\n",
       "      <td>...</td>\n",
       "      <td>...</td>\n",
       "      <td>...</td>\n",
       "      <td>...</td>\n",
       "      <td>...</td>\n",
       "      <td>...</td>\n",
       "      <td>...</td>\n",
       "      <td>...</td>\n",
       "      <td>...</td>\n",
       "    </tr>\n",
       "    <tr>\n",
       "      <th>404310</th>\n",
       "      <td>54610727</td>\n",
       "      <td>tt9916730</td>\n",
       "      <td>nm6096005</td>\n",
       "      <td>actor</td>\n",
       "      <td>8.3</td>\n",
       "      <td>10</td>\n",
       "      <td>6 Gunn</td>\n",
       "      <td>0</td>\n",
       "      <td>2017</td>\n",
       "      <td>116</td>\n",
       "      <td>Devadhar Archit</td>\n",
       "      <td>\\N</td>\n",
       "    </tr>\n",
       "    <tr>\n",
       "      <th>404311</th>\n",
       "      <td>54610728</td>\n",
       "      <td>tt9916730</td>\n",
       "      <td>nm0059461</td>\n",
       "      <td>actor</td>\n",
       "      <td>8.3</td>\n",
       "      <td>10</td>\n",
       "      <td>6 Gunn</td>\n",
       "      <td>0</td>\n",
       "      <td>2017</td>\n",
       "      <td>116</td>\n",
       "      <td>Sunil Barve</td>\n",
       "      <td>\\N</td>\n",
       "    </tr>\n",
       "    <tr>\n",
       "      <th>404312</th>\n",
       "      <td>54610729</td>\n",
       "      <td>tt9916730</td>\n",
       "      <td>nm13233318</td>\n",
       "      <td>actor</td>\n",
       "      <td>8.3</td>\n",
       "      <td>10</td>\n",
       "      <td>6 Gunn</td>\n",
       "      <td>0</td>\n",
       "      <td>2017</td>\n",
       "      <td>116</td>\n",
       "      <td>Ganesh Vasant Patil</td>\n",
       "      <td>\\N</td>\n",
       "    </tr>\n",
       "    <tr>\n",
       "      <th>404313</th>\n",
       "      <td>54610730</td>\n",
       "      <td>tt9916730</td>\n",
       "      <td>nm4852679</td>\n",
       "      <td>actor</td>\n",
       "      <td>8.3</td>\n",
       "      <td>10</td>\n",
       "      <td>6 Gunn</td>\n",
       "      <td>0</td>\n",
       "      <td>2017</td>\n",
       "      <td>116</td>\n",
       "      <td>Bhushan Pradhan</td>\n",
       "      <td>\\N</td>\n",
       "    </tr>\n",
       "    <tr>\n",
       "      <th>404314</th>\n",
       "      <td>54610731</td>\n",
       "      <td>tt9916730</td>\n",
       "      <td>nm10538612</td>\n",
       "      <td>director</td>\n",
       "      <td>8.3</td>\n",
       "      <td>10</td>\n",
       "      <td>6 Gunn</td>\n",
       "      <td>0</td>\n",
       "      <td>2017</td>\n",
       "      <td>116</td>\n",
       "      <td>Kiran Gawade</td>\n",
       "      <td>\\N</td>\n",
       "    </tr>\n",
       "  </tbody>\n",
       "</table>\n",
       "<p>715617 rows × 12 columns</p>\n",
       "</div>"
      ],
      "text/plain": [
       "        Unnamed: 0     tconst      nconst  category  averageRating  numVotes  \\\n",
       "0            92759  tt0013274   nm0412842  director            6.7        48   \n",
       "1            92760  tt0013274   nm0895048  director            6.7        48   \n",
       "2           522892  tt0062336   nm0815612     actor            6.4       164   \n",
       "3           522893  tt0062336   nm1860495   actress            6.4       164   \n",
       "4           522894  tt0062336   nm0016013     actor            6.4       164   \n",
       "...            ...        ...         ...       ...            ...       ...   \n",
       "404310    54610727  tt9916730   nm6096005     actor            8.3        10   \n",
       "404311    54610728  tt9916730   nm0059461     actor            8.3        10   \n",
       "404312    54610729  tt9916730  nm13233318     actor            8.3        10   \n",
       "404313    54610730  tt9916730   nm4852679     actor            8.3        10   \n",
       "404314    54610731  tt9916730  nm10538612  director            8.3        10   \n",
       "\n",
       "                                             primaryTitle  isAdult  startYear  \\\n",
       "0                             Istoriya grazhdanskoy voyny        0       2021   \n",
       "1                             Istoriya grazhdanskoy voyny        0       2021   \n",
       "2       The Tango of the Widower and Its Distorting Mi...        0       2020   \n",
       "3       The Tango of the Widower and Its Distorting Mi...        0       2020   \n",
       "4       The Tango of the Widower and Its Distorting Mi...        0       2020   \n",
       "...                                                   ...      ...        ...   \n",
       "404310                                             6 Gunn        0       2017   \n",
       "404311                                             6 Gunn        0       2017   \n",
       "404312                                             6 Gunn        0       2017   \n",
       "404313                                             6 Gunn        0       2017   \n",
       "404314                                             6 Gunn        0       2017   \n",
       "\n",
       "       runtimeMinutes          primaryName       genres  \n",
       "0                 133      Nikolai Izvolov  Documentary  \n",
       "1                 133         Dziga Vertov  Documentary  \n",
       "2                  70      Rubén Sotoconil        Drama  \n",
       "3                  70          Claudia Paz        Drama  \n",
       "4                  70         Luis Alarcón        Drama  \n",
       "...               ...                  ...          ...  \n",
       "404310            116      Devadhar Archit           \\N  \n",
       "404311            116          Sunil Barve           \\N  \n",
       "404312            116  Ganesh Vasant Patil           \\N  \n",
       "404313            116      Bhushan Pradhan           \\N  \n",
       "404314            116         Kiran Gawade           \\N  \n",
       "\n",
       "[715617 rows x 12 columns]"
      ]
     },
     "execution_count": 12,
     "metadata": {},
     "output_type": "execute_result"
    }
   ],
   "source": [
    "df1 = imdb\n",
    "df1 = df1.drop(['genres'], axis=1).join(df1['genres'].str.split(',', expand=True).stack().reset_index(level=1, drop=True).rename('genres'))\n",
    "df1"
   ]
  },
  {
   "cell_type": "code",
   "execution_count": 13,
   "metadata": {},
   "outputs": [
    {
     "data": {
      "image/png": "[encoded data removed]",
      "text/plain": [
       "<Figure size 1872x576 with 1 Axes>"
      ]
     },
     "metadata": {
      "needs_background": "light"
     },
     "output_type": "display_data"
    }
   ],
   "source": [
    "df2 = df1.genres.value_counts()\n",
    "x = [i for i in df2.keys()]\n",
    "y = []\n",
    "for i in range(0,28):\n",
    "    y.append(df2.values[i])\n",
    "plt.figure(figsize=(26, 8))\n",
    "plt.title('The distribution of genres', fontsize=30, weight='bold')\n",
    "sns.barplot(x=x, y=y)\n",
    "plt.show()"
   ]
  },
  {
   "cell_type": "code",
   "execution_count": 14,
   "metadata": {},
   "outputs": [
    {
     "data": {
      "image/png": "[encoded data removed]",
      "text/plain": [
       "<Figure size 2160x576 with 1 Axes>"
      ]
     },
     "metadata": {
      "needs_background": "light"
     },
     "output_type": "display_data"
    }
   ],
   "source": [
    "plt.figure(figsize=(30, 8))\n",
    "sns.boxplot(x=\"genres\", y=\"averageRating\", data=df1, linewidth=1.5)\n",
    "plt.title('The distribution of Rating and genres',fontsize=20, weight='bold')\n",
    "plt.show()"
   ]
  },
  {
   "cell_type": "markdown",
   "metadata": {},
   "source": [
    "Here, we can see that Horror, Sci-Fi, Mystery and Western movies are less likely to get high ratings. While Documentary, Drama, Crime, Animation, Musical, History, Biography titles are most likely to get high ratings (except for some genres with too small a sample size). We see the ratings based on genres have specific and different distribution for each genre. So genre is a good factor that we can consider in our machine learning models."
   ]
  },
  {
   "cell_type": "markdown",
   "metadata": {},
   "source": [
    "## Part IV: Modeling and Analysis"
   ]
  },
  {
   "cell_type": "code",
   "execution_count": 15,
   "metadata": {},
   "outputs": [],
   "source": [
    "drop_columns = [\"Unnamed: 0\", \"tconst\", \"nconst\", \"category\", \"primaryTitle\", \"primaryName\"]\n",
    "df_model = df1.drop(drop_columns, axis=1)\n",
    "\n",
    "df_model['genres'] = df_model['genres'].replace({r'\\N': None})\n",
    "df_model['runtimeMinutes'] = df_model['runtimeMinutes'].replace({r'\\N': None}).astype(float)\n",
    "\n",
    "df_model = df_model.dropna()\n",
    "\n",
    "df_model = df_model.reset_index(drop=True)"
   ]
  },
  {
   "cell_type": "markdown",
   "metadata": {},
   "source": [
    "### Part IV (1): Label Encoder"
   ]
  },
  {
   "cell_type": "markdown",
   "metadata": {},
   "source": [
    "Label Encoder from the scikit-learn library is about converting **non-numeric data** into **numeric data**. We are specifically transforming the `genres` column of the `df_model` DataFrame into a numeric column. \n",
    "\n",
    "This is done to make it easier for machine learning algorithms to process the data."
   ]
  },
  {
   "cell_type": "code",
   "execution_count": 16,
   "metadata": {},
   "outputs": [
    {
     "data": {
      "text/html": [
       "<div>\n",
       "<style scoped>\n",
       "    .dataframe tbody tr th:only-of-type {\n",
       "        vertical-align: middle;\n",
       "    }\n",
       "\n",
       "    .dataframe tbody tr th {\n",
       "        vertical-align: top;\n",
       "    }\n",
       "\n",
       "    .dataframe thead th {\n",
       "        text-align: right;\n",
       "    }\n",
       "</style>\n",
       "<table border=\"1\" class=\"dataframe\">\n",
       "  <thead>\n",
       "    <tr style=\"text-align: right;\">\n",
       "      <th></th>\n",
       "      <th>averageRating</th>\n",
       "      <th>numVotes</th>\n",
       "      <th>isAdult</th>\n",
       "      <th>startYear</th>\n",
       "      <th>runtimeMinutes</th>\n",
       "      <th>genres</th>\n",
       "    </tr>\n",
       "  </thead>\n",
       "  <tbody>\n",
       "    <tr>\n",
       "      <th>0</th>\n",
       "      <td>6.7</td>\n",
       "      <td>48</td>\n",
       "      <td>0</td>\n",
       "      <td>2021</td>\n",
       "      <td>133.0</td>\n",
       "      <td>7</td>\n",
       "    </tr>\n",
       "    <tr>\n",
       "      <th>1</th>\n",
       "      <td>6.7</td>\n",
       "      <td>48</td>\n",
       "      <td>0</td>\n",
       "      <td>2021</td>\n",
       "      <td>133.0</td>\n",
       "      <td>7</td>\n",
       "    </tr>\n",
       "    <tr>\n",
       "      <th>2</th>\n",
       "      <td>6.4</td>\n",
       "      <td>164</td>\n",
       "      <td>0</td>\n",
       "      <td>2020</td>\n",
       "      <td>70.0</td>\n",
       "      <td>8</td>\n",
       "    </tr>\n",
       "    <tr>\n",
       "      <th>3</th>\n",
       "      <td>6.4</td>\n",
       "      <td>164</td>\n",
       "      <td>0</td>\n",
       "      <td>2020</td>\n",
       "      <td>70.0</td>\n",
       "      <td>8</td>\n",
       "    </tr>\n",
       "    <tr>\n",
       "      <th>4</th>\n",
       "      <td>6.4</td>\n",
       "      <td>164</td>\n",
       "      <td>0</td>\n",
       "      <td>2020</td>\n",
       "      <td>70.0</td>\n",
       "      <td>8</td>\n",
       "    </tr>\n",
       "  </tbody>\n",
       "</table>\n",
       "</div>"
      ],
      "text/plain": [
       "   averageRating  numVotes  isAdult  startYear  runtimeMinutes  genres\n",
       "0            6.7        48        0       2021           133.0       7\n",
       "1            6.7        48        0       2021           133.0       7\n",
       "2            6.4       164        0       2020            70.0       8\n",
       "3            6.4       164        0       2020            70.0       8\n",
       "4            6.4       164        0       2020            70.0       8"
      ]
     },
     "execution_count": 16,
     "metadata": {},
     "output_type": "execute_result"
    }
   ],
   "source": [
    "from sklearn.preprocessing import LabelEncoder\n",
    "\n",
    "# creating instances of labelencoder\n",
    "labelencoder = LabelEncoder()\n",
    "\n",
    "# Assigning numeric values and convert the non-numeric column\n",
    "df_model['genres'] = labelencoder.fit_transform(df_model['genres'])\n",
    "df_model.head()"
   ]
  },
  {
   "cell_type": "markdown",
   "metadata": {},
   "source": [
    "### Part IV (2): Train-Test Split"
   ]
  },
  {
   "cell_type": "code",
   "execution_count": 17,
   "metadata": {},
   "outputs": [],
   "source": [
    "y = df_model['averageRating']\n",
    "x = df_model.drop(['averageRating'], axis = 1)"
   ]
  },
  {
   "cell_type": "markdown",
   "metadata": {},
   "source": [
    "By splitting the dataset into a training set and a testing set, we can train the model on one subset of the data and evaluate its performance on a completely different subset of the data. This helps to prevent overfitting, which occurs when the model is too complex and fits the training data too closely, resulting in poor performance on new data. "
   ]
  },
  {
   "cell_type": "code",
   "execution_count": 18,
   "metadata": {},
   "outputs": [],
   "source": [
    "from sklearn.model_selection import train_test_split\n",
    "\n",
    "X_train, X_test, y_train, y_test = train_test_split(x, y, test_size=0.2,random_state=42)"
   ]
  },
  {
   "cell_type": "markdown",
   "metadata": {},
   "source": [
    "### Part IV (3): Linear Regression and Decision Tree"
   ]
  },
  {
   "cell_type": "code",
   "execution_count": 19,
   "metadata": {},
   "outputs": [
    {
     "data": {
      "text/plain": [
       "0.017325106775817"
      ]
     },
     "execution_count": 19,
     "metadata": {},
     "output_type": "execute_result"
    }
   ],
   "source": [
    "from sklearn import datasets\n",
    "from sklearn.linear_model import LinearRegression\n",
    "from sklearn.metrics import r2_score\n",
    "model = LinearRegression()\n",
    "model.fit(X_train, y_train)\n",
    "predict_valid = model.predict(X_test)\n",
    "score = r2_score(y_test,predict_valid)\n",
    "score"
   ]
  },
  {
   "cell_type": "code",
   "execution_count": 20,
   "metadata": {},
   "outputs": [],
   "source": [
    "from sklearn.tree import DecisionTreeRegressor\n",
    "from sklearn.metrics import r2_score\n",
    "\n",
    "# create a decision tree regressor with max depth of 30\n",
    "dt_regressor = DecisionTreeRegressor(max_depth=70)\n",
    "\n",
    "# train the model on the training data\n",
    "dt_regressor.fit(X_train, y_train)\n",
    "\n",
    "# make predictions on the test data\n",
    "y_pred_new = dt_regressor.predict(X_test)"
   ]
  },
  {
   "cell_type": "code",
   "execution_count": 21,
   "metadata": {},
   "outputs": [
    {
     "name": "stdout",
     "output_type": "stream",
     "text": [
      "R^2 score: 0.9160570627146999\n"
     ]
    }
   ],
   "source": [
    "# Compute the R^2 score of the model\n",
    "score = r2_score(y_test, y_pred_new)\n",
    "print(\"R^2 score:\", score)"
   ]
  },
  {
   "cell_type": "code",
   "execution_count": 22,
   "metadata": {},
   "outputs": [
    {
     "data": {
      "image/png": "[encoded data removed]",
      "text/plain": [
       "<Figure size 432x288 with 1 Axes>"
      ]
     },
     "metadata": {
      "needs_background": "light"
     },
     "output_type": "display_data"
    }
   ],
   "source": [
    "from sklearn.tree import DecisionTreeRegressor\n",
    "from sklearn.metrics import r2_score\n",
    "import matplotlib.pyplot as plt\n",
    "\n",
    "depths = range(50, 100)  # try depths from 1 to 20\n",
    "accuracy_scores = []\n",
    "for depth in depths:\n",
    "    # build decision tree regressor with current depth\n",
    "    clf = DecisionTreeRegressor(max_depth=depth)\n",
    "    clf.fit(X_train, y_train)\n",
    "    y_pred = clf.predict(X_test)\n",
    "    accuracy = r2_score(y_test, y_pred)\n",
    "    accuracy_scores.append(accuracy)\n",
    "\n",
    "# plot the accuracy graph\n",
    "plt.plot(depths, accuracy_scores, marker='o')\n",
    "plt.xlabel('Max Depth')\n",
    "plt.ylabel('Accuracy Score (R2)')\n",
    "plt.title('Decision Tree Regressor Accuracy')\n",
    "plt.show()"
   ]
  },
  {
   "cell_type": "markdown",
   "metadata": {},
   "source": [
    "We attempted to fit the data using two popular machine learning algorithms, linear regression and decision tree, but found that the accuracy of the resulting models was low. This could be due to various factors such as the complexity of the problem, or the choice of hyperparameters. For decision tree, ghe reason could be that the data may not have clear boundaries or decision boundaries that can be easily separated by a decision tree. In such cases, the decision tree may not be able to capture the underlying patterns in the data and may result in low accuracy.\n",
    "\n",
    "We tried a dicision tree depth of 70, although the accuarcy of the model seems high, a decision tree with a depth that is too deep can lead to overfitting, poor interpretability, and increased computational costs. It may capture noise or outliers in the training data and have poor generalization to new data, making it less effective in producing accurate predictions. It is important to find an optimal depth for the decision tree to balance accuracy, interpretability, and efficiency."
   ]
  },
  {
   "cell_type": "markdown",
   "metadata": {},
   "source": [
    "### Part IV (4): Random Forest"
   ]
  },
  {
   "cell_type": "markdown",
   "metadata": {},
   "source": [
    "[![Example Random Forest Image](random.svg)](https://www.tibco.com/reference-center/what-is-a-random-forest)"
   ]
  },
  {
   "cell_type": "code",
   "execution_count": null,
   "metadata": {},
   "outputs": [],
   "source": [
    "from sklearn.ensemble import RandomForestRegressor\n",
    "\n",
    "regr = RandomForestRegressor()\n",
    "regr.fit(X_train, y_train)\n",
    "regr.score(X_test, y_test)"
   ]
  },
  {
   "cell_type": "markdown",
   "metadata": {},
   "source": [
    "Random Forest is like a big group of friends trying to decide what to do for the day. Each friend has different ideas, but they all get together and share their suggestions. The group then takes a vote and chooses the most popular option. This way, everyone's opinions are heard, and the decision is made based on the collective knowledge of the group.\n",
    "\n",
    "Similarly, Random Forest is a group of decision trees, where each tree has its own ideas about how to predict an outcome. The trees are constructed using random subsets of the data and features, which helps to avoid biases and errors that could occur with just one tree. During prediction, each tree makes its own prediction, and the final decision is made based on the majority vote or average of all the predictions. This ensures that the final prediction is more accurate and less biased than just relying on one decision tree.\n",
    "\n",
    "By using this model, we can make predictions on the rating score of new movies based on their features, such as genre, startyear, and length.\n",
    "\n",
    "The resulting model has an accuracy of 92%, making it useful for predicting movie ratings."
   ]
  }
 ],
 "metadata": {
  "kernelspec": {
   "display_name": "Python 3 (ipykernel)",
   "language": "python",
   "name": "python3"
  },
  "language_info": {
   "codemirror_mode": {
    "name": "ipython",
    "version": 3
   },
   "file_extension": ".py",
   "mimetype": "text/x-python",
   "name": "python",
   "nbconvert_exporter": "python",
   "pygments_lexer": "ipython3",
   "version": "3.9.7"
  }
 },
 "nbformat": 4,
 "nbformat_minor": 4
}
