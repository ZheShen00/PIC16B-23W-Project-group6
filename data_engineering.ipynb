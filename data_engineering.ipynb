{
 "cells": [
  {
   "cell_type": "code",
   "execution_count": 1,
   "id": "62e207ab",
   "metadata": {},
   "outputs": [],
   "source": [
    "import pandas as pd\n",
    "import sqlite3"
   ]
  },
  {
   "cell_type": "code",
   "execution_count": 2,
   "id": "ed312db1",
   "metadata": {},
   "outputs": [
    {
     "data": {
      "text/html": [
       "<div>\n",
       "<style scoped>\n",
       "    .dataframe tbody tr th:only-of-type {\n",
       "        vertical-align: middle;\n",
       "    }\n",
       "\n",
       "    .dataframe tbody tr th {\n",
       "        vertical-align: top;\n",
       "    }\n",
       "\n",
       "    .dataframe thead th {\n",
       "        text-align: right;\n",
       "    }\n",
       "</style>\n",
       "<table border=\"1\" class=\"dataframe\">\n",
       "  <thead>\n",
       "    <tr style=\"text-align: right;\">\n",
       "      <th></th>\n",
       "      <th>Unnamed: 0</th>\n",
       "      <th>nconst</th>\n",
       "      <th>primaryName</th>\n",
       "    </tr>\n",
       "  </thead>\n",
       "  <tbody>\n",
       "    <tr>\n",
       "      <th>0</th>\n",
       "      <td>46</td>\n",
       "      <td>nm0000047</td>\n",
       "      <td>Sophia Loren</td>\n",
       "    </tr>\n",
       "    <tr>\n",
       "      <th>1</th>\n",
       "      <td>79</td>\n",
       "      <td>nm0000080</td>\n",
       "      <td>Orson Welles</td>\n",
       "    </tr>\n",
       "    <tr>\n",
       "      <th>2</th>\n",
       "      <td>83</td>\n",
       "      <td>nm0000084</td>\n",
       "      <td>Gong Li</td>\n",
       "    </tr>\n",
       "    <tr>\n",
       "      <th>3</th>\n",
       "      <td>86</td>\n",
       "      <td>nm0000087</td>\n",
       "      <td>Elena Koreneva</td>\n",
       "    </tr>\n",
       "    <tr>\n",
       "      <th>4</th>\n",
       "      <td>89</td>\n",
       "      <td>nm0000090</td>\n",
       "      <td>Armin Mueller-Stahl</td>\n",
       "    </tr>\n",
       "  </tbody>\n",
       "</table>\n",
       "</div>"
      ],
      "text/plain": [
       "   Unnamed: 0     nconst          primaryName\n",
       "0          46  nm0000047         Sophia Loren\n",
       "1          79  nm0000080         Orson Welles\n",
       "2          83  nm0000084              Gong Li\n",
       "3          86  nm0000087       Elena Koreneva\n",
       "4          89  nm0000090  Armin Mueller-Stahl"
      ]
     },
     "execution_count": 2,
     "metadata": {},
     "output_type": "execute_result"
    }
   ],
   "source": [
    "name = pd.read_csv(\"data/name.csv\")\n",
    "name.head()"
   ]
  },
  {
   "cell_type": "code",
   "execution_count": 3,
   "id": "1c3ab3dd",
   "metadata": {},
   "outputs": [
    {
     "data": {
      "text/html": [
       "<div>\n",
       "<style scoped>\n",
       "    .dataframe tbody tr th:only-of-type {\n",
       "        vertical-align: middle;\n",
       "    }\n",
       "\n",
       "    .dataframe tbody tr th {\n",
       "        vertical-align: top;\n",
       "    }\n",
       "\n",
       "    .dataframe thead th {\n",
       "        text-align: right;\n",
       "    }\n",
       "</style>\n",
       "<table border=\"1\" class=\"dataframe\">\n",
       "  <thead>\n",
       "    <tr style=\"text-align: right;\">\n",
       "      <th></th>\n",
       "      <th>Unnamed: 0</th>\n",
       "      <th>tconst</th>\n",
       "      <th>primaryTitle</th>\n",
       "      <th>isAdult</th>\n",
       "      <th>startYear</th>\n",
       "      <th>runtimeMinutes</th>\n",
       "      <th>genres</th>\n",
       "    </tr>\n",
       "  </thead>\n",
       "  <tbody>\n",
       "    <tr>\n",
       "      <th>0</th>\n",
       "      <td>11636</td>\n",
       "      <td>tt0011801</td>\n",
       "      <td>Tötet nicht mehr</td>\n",
       "      <td>0</td>\n",
       "      <td>2019</td>\n",
       "      <td>\\N</td>\n",
       "      <td>Action,Crime</td>\n",
       "    </tr>\n",
       "    <tr>\n",
       "      <th>1</th>\n",
       "      <td>13082</td>\n",
       "      <td>tt0013274</td>\n",
       "      <td>Istoriya grazhdanskoy voyny</td>\n",
       "      <td>0</td>\n",
       "      <td>2021</td>\n",
       "      <td>133</td>\n",
       "      <td>Documentary</td>\n",
       "    </tr>\n",
       "    <tr>\n",
       "      <th>2</th>\n",
       "      <td>61116</td>\n",
       "      <td>tt0062336</td>\n",
       "      <td>The Tango of the Widower and Its Distorting Mi...</td>\n",
       "      <td>0</td>\n",
       "      <td>2020</td>\n",
       "      <td>70</td>\n",
       "      <td>Drama</td>\n",
       "    </tr>\n",
       "    <tr>\n",
       "      <th>3</th>\n",
       "      <td>67669</td>\n",
       "      <td>tt0069049</td>\n",
       "      <td>The Other Side of the Wind</td>\n",
       "      <td>0</td>\n",
       "      <td>2018</td>\n",
       "      <td>122</td>\n",
       "      <td>Drama</td>\n",
       "    </tr>\n",
       "    <tr>\n",
       "      <th>4</th>\n",
       "      <td>76059</td>\n",
       "      <td>tt0077684</td>\n",
       "      <td>Histórias de Combóios em Portugal</td>\n",
       "      <td>0</td>\n",
       "      <td>2022</td>\n",
       "      <td>46</td>\n",
       "      <td>Documentary</td>\n",
       "    </tr>\n",
       "  </tbody>\n",
       "</table>\n",
       "</div>"
      ],
      "text/plain": [
       "   Unnamed: 0     tconst                                       primaryTitle  \\\n",
       "0       11636  tt0011801                                   Tötet nicht mehr   \n",
       "1       13082  tt0013274                        Istoriya grazhdanskoy voyny   \n",
       "2       61116  tt0062336  The Tango of the Widower and Its Distorting Mi...   \n",
       "3       67669  tt0069049                         The Other Side of the Wind   \n",
       "4       76059  tt0077684                  Histórias de Combóios em Portugal   \n",
       "\n",
       "   isAdult  startYear runtimeMinutes        genres  \n",
       "0        0       2019             \\N  Action,Crime  \n",
       "1        0       2021            133   Documentary  \n",
       "2        0       2020             70         Drama  \n",
       "3        0       2018            122         Drama  \n",
       "4        0       2022             46   Documentary  "
      ]
     },
     "execution_count": 3,
     "metadata": {},
     "output_type": "execute_result"
    }
   ],
   "source": [
    "basics = pd.read_csv(\"data/basics.csv\")\n",
    "basics.head()"
   ]
  },
  {
   "cell_type": "code",
   "execution_count": 4,
   "id": "0ef5868d",
   "metadata": {},
   "outputs": [
    {
     "data": {
      "text/html": [
       "<div>\n",
       "<style scoped>\n",
       "    .dataframe tbody tr th:only-of-type {\n",
       "        vertical-align: middle;\n",
       "    }\n",
       "\n",
       "    .dataframe tbody tr th {\n",
       "        vertical-align: top;\n",
       "    }\n",
       "\n",
       "    .dataframe thead th {\n",
       "        text-align: right;\n",
       "    }\n",
       "</style>\n",
       "<table border=\"1\" class=\"dataframe\">\n",
       "  <thead>\n",
       "    <tr style=\"text-align: right;\">\n",
       "      <th></th>\n",
       "      <th>Unnamed: 0</th>\n",
       "      <th>tconst</th>\n",
       "      <th>averageRating</th>\n",
       "      <th>numVotes</th>\n",
       "    </tr>\n",
       "  </thead>\n",
       "  <tbody>\n",
       "    <tr>\n",
       "      <th>0</th>\n",
       "      <td>3469</td>\n",
       "      <td>tt0013274</td>\n",
       "      <td>6.7</td>\n",
       "      <td>48</td>\n",
       "    </tr>\n",
       "    <tr>\n",
       "      <th>1</th>\n",
       "      <td>40472</td>\n",
       "      <td>tt0062336</td>\n",
       "      <td>6.4</td>\n",
       "      <td>164</td>\n",
       "    </tr>\n",
       "    <tr>\n",
       "      <th>2</th>\n",
       "      <td>46340</td>\n",
       "      <td>tt0069049</td>\n",
       "      <td>6.7</td>\n",
       "      <td>7560</td>\n",
       "    </tr>\n",
       "    <tr>\n",
       "      <th>3</th>\n",
       "      <td>71098</td>\n",
       "      <td>tt0097767</td>\n",
       "      <td>7.0</td>\n",
       "      <td>6</td>\n",
       "    </tr>\n",
       "    <tr>\n",
       "      <th>4</th>\n",
       "      <td>73245</td>\n",
       "      <td>tt0100275</td>\n",
       "      <td>6.5</td>\n",
       "      <td>339</td>\n",
       "    </tr>\n",
       "  </tbody>\n",
       "</table>\n",
       "</div>"
      ],
      "text/plain": [
       "   Unnamed: 0     tconst  averageRating  numVotes\n",
       "0        3469  tt0013274            6.7        48\n",
       "1       40472  tt0062336            6.4       164\n",
       "2       46340  tt0069049            6.7      7560\n",
       "3       71098  tt0097767            7.0         6\n",
       "4       73245  tt0100275            6.5       339"
      ]
     },
     "execution_count": 4,
     "metadata": {},
     "output_type": "execute_result"
    }
   ],
   "source": [
    "ratings = pd.read_csv(\"data/rating.csv\")\n",
    "ratings.head()"
   ]
  },
  {
   "cell_type": "code",
   "execution_count": 5,
   "id": "330bb90f",
   "metadata": {},
   "outputs": [
    {
     "data": {
      "text/html": [
       "<div>\n",
       "<style scoped>\n",
       "    .dataframe tbody tr th:only-of-type {\n",
       "        vertical-align: middle;\n",
       "    }\n",
       "\n",
       "    .dataframe tbody tr th {\n",
       "        vertical-align: top;\n",
       "    }\n",
       "\n",
       "    .dataframe thead th {\n",
       "        text-align: right;\n",
       "    }\n",
       "</style>\n",
       "<table border=\"1\" class=\"dataframe\">\n",
       "  <thead>\n",
       "    <tr style=\"text-align: right;\">\n",
       "      <th></th>\n",
       "      <th>Unnamed: 0</th>\n",
       "      <th>tconst</th>\n",
       "      <th>nconst</th>\n",
       "      <th>category</th>\n",
       "    </tr>\n",
       "  </thead>\n",
       "  <tbody>\n",
       "    <tr>\n",
       "      <th>0</th>\n",
       "      <td>80701</td>\n",
       "      <td>tt0011801</td>\n",
       "      <td>nm0459029</td>\n",
       "      <td>actor</td>\n",
       "    </tr>\n",
       "    <tr>\n",
       "      <th>1</th>\n",
       "      <td>80702</td>\n",
       "      <td>tt0011801</td>\n",
       "      <td>nm0681726</td>\n",
       "      <td>actor</td>\n",
       "    </tr>\n",
       "    <tr>\n",
       "      <th>2</th>\n",
       "      <td>80703</td>\n",
       "      <td>tt0011801</td>\n",
       "      <td>nm0692612</td>\n",
       "      <td>actress</td>\n",
       "    </tr>\n",
       "    <tr>\n",
       "      <th>3</th>\n",
       "      <td>80704</td>\n",
       "      <td>tt0011801</td>\n",
       "      <td>nm0726256</td>\n",
       "      <td>actor</td>\n",
       "    </tr>\n",
       "    <tr>\n",
       "      <th>4</th>\n",
       "      <td>80705</td>\n",
       "      <td>tt0011801</td>\n",
       "      <td>nm0776458</td>\n",
       "      <td>actor</td>\n",
       "    </tr>\n",
       "  </tbody>\n",
       "</table>\n",
       "</div>"
      ],
      "text/plain": [
       "   Unnamed: 0     tconst     nconst category\n",
       "0       80701  tt0011801  nm0459029    actor\n",
       "1       80702  tt0011801  nm0681726    actor\n",
       "2       80703  tt0011801  nm0692612  actress\n",
       "3       80704  tt0011801  nm0726256    actor\n",
       "4       80705  tt0011801  nm0776458    actor"
      ]
     },
     "execution_count": 5,
     "metadata": {},
     "output_type": "execute_result"
    }
   ],
   "source": [
    "principals = pd.read_csv(\"data/principals.csv\")\n",
    "principals.head()"
   ]
  },
  {
   "cell_type": "code",
   "execution_count": 6,
   "id": "fdf37472",
   "metadata": {},
   "outputs": [],
   "source": [
    "# Create the database\n",
    "con = sqlite3.connect(\"imdb.db\")"
   ]
  },
  {
   "cell_type": "code",
   "execution_count": 7,
   "id": "a83c1336",
   "metadata": {},
   "outputs": [
    {
     "data": {
      "text/plain": [
       "416018"
      ]
     },
     "execution_count": 7,
     "metadata": {},
     "output_type": "execute_result"
    }
   ],
   "source": [
    "name.to_sql(\"name\", con, index = False, if_exists = 'replace')"
   ]
  },
  {
   "cell_type": "code",
   "execution_count": 8,
   "id": "ecbba0ff",
   "metadata": {},
   "outputs": [
    {
     "data": {
      "text/plain": [
       "179674"
      ]
     },
     "execution_count": 8,
     "metadata": {},
     "output_type": "execute_result"
    }
   ],
   "source": [
    "basics.to_sql(\"basics\", con, index=False,if_exists = 'replace')"
   ]
  },
  {
   "cell_type": "code",
   "execution_count": 9,
   "id": "a6f78c20",
   "metadata": {},
   "outputs": [
    {
     "data": {
      "text/plain": [
       "91963"
      ]
     },
     "execution_count": 9,
     "metadata": {},
     "output_type": "execute_result"
    }
   ],
   "source": [
    "ratings.to_sql(\"ratings\", con, index = False,if_exists = 'replace')"
   ]
  },
  {
   "cell_type": "code",
   "execution_count": 10,
   "id": "316a77bd",
   "metadata": {},
   "outputs": [
    {
     "data": {
      "text/plain": [
       "696935"
      ]
     },
     "execution_count": 10,
     "metadata": {},
     "output_type": "execute_result"
    }
   ],
   "source": [
    "principals.to_sql(\"principals\", con, index = False,if_exists = 'replace')"
   ]
  },
  {
   "cell_type": "code",
   "execution_count": 11,
   "id": "ab3adf1b",
   "metadata": {},
   "outputs": [],
   "source": [
    "cursor = con.cursor()"
   ]
  },
  {
   "cell_type": "code",
   "execution_count": 12,
   "id": "e01fe015",
   "metadata": {},
   "outputs": [
    {
     "data": {
      "text/plain": [
       "<sqlite3.Cursor at 0x7ff3b143c030>"
      ]
     },
     "execution_count": 12,
     "metadata": {},
     "output_type": "execute_result"
    }
   ],
   "source": [
    "# Define the name of the table to delete\n",
    "table_name = ['countries','stations']\n",
    "\n",
    "# Execute the DROP TABLE statement\n",
    "cursor.execute(\"DROP TABLE IF EXISTS {}\".format(table_name))"
   ]
  },
  {
   "cell_type": "code",
   "execution_count": 13,
   "id": "a381d39f",
   "metadata": {},
   "outputs": [],
   "source": [
    "con.commit()"
   ]
  },
  {
   "cell_type": "code",
   "execution_count": 14,
   "id": "74443de7",
   "metadata": {},
   "outputs": [
    {
     "data": {
      "text/html": [
       "<div>\n",
       "<style scoped>\n",
       "    .dataframe tbody tr th:only-of-type {\n",
       "        vertical-align: middle;\n",
       "    }\n",
       "\n",
       "    .dataframe tbody tr th {\n",
       "        vertical-align: top;\n",
       "    }\n",
       "\n",
       "    .dataframe thead th {\n",
       "        text-align: right;\n",
       "    }\n",
       "</style>\n",
       "<table border=\"1\" class=\"dataframe\">\n",
       "  <thead>\n",
       "    <tr style=\"text-align: right;\">\n",
       "      <th></th>\n",
       "      <th>Unnamed: 0</th>\n",
       "      <th>tconst</th>\n",
       "      <th>nconst</th>\n",
       "      <th>category</th>\n",
       "      <th>Unnamed: 0</th>\n",
       "      <th>tconst</th>\n",
       "      <th>averageRating</th>\n",
       "      <th>numVotes</th>\n",
       "      <th>Unnamed: 0</th>\n",
       "      <th>tconst</th>\n",
       "      <th>primaryTitle</th>\n",
       "      <th>isAdult</th>\n",
       "      <th>startYear</th>\n",
       "      <th>runtimeMinutes</th>\n",
       "      <th>genres</th>\n",
       "      <th>Unnamed: 0</th>\n",
       "      <th>nconst</th>\n",
       "      <th>primaryName</th>\n",
       "    </tr>\n",
       "  </thead>\n",
       "  <tbody>\n",
       "    <tr>\n",
       "      <th>0</th>\n",
       "      <td>92759</td>\n",
       "      <td>tt0013274</td>\n",
       "      <td>nm0412842</td>\n",
       "      <td>director</td>\n",
       "      <td>3469</td>\n",
       "      <td>tt0013274</td>\n",
       "      <td>6.7</td>\n",
       "      <td>48</td>\n",
       "      <td>13082</td>\n",
       "      <td>tt0013274</td>\n",
       "      <td>Istoriya grazhdanskoy voyny</td>\n",
       "      <td>0</td>\n",
       "      <td>2021</td>\n",
       "      <td>133</td>\n",
       "      <td>Documentary</td>\n",
       "      <td>390598</td>\n",
       "      <td>nm0412842</td>\n",
       "      <td>Nikolai Izvolov</td>\n",
       "    </tr>\n",
       "    <tr>\n",
       "      <th>1</th>\n",
       "      <td>92760</td>\n",
       "      <td>tt0013274</td>\n",
       "      <td>nm0895048</td>\n",
       "      <td>director</td>\n",
       "      <td>3469</td>\n",
       "      <td>tt0013274</td>\n",
       "      <td>6.7</td>\n",
       "      <td>48</td>\n",
       "      <td>13082</td>\n",
       "      <td>tt0013274</td>\n",
       "      <td>Istoriya grazhdanskoy voyny</td>\n",
       "      <td>0</td>\n",
       "      <td>2021</td>\n",
       "      <td>133</td>\n",
       "      <td>Documentary</td>\n",
       "      <td>842504</td>\n",
       "      <td>nm0895048</td>\n",
       "      <td>Dziga Vertov</td>\n",
       "    </tr>\n",
       "    <tr>\n",
       "      <th>2</th>\n",
       "      <td>522892</td>\n",
       "      <td>tt0062336</td>\n",
       "      <td>nm0815612</td>\n",
       "      <td>actor</td>\n",
       "      <td>40472</td>\n",
       "      <td>tt0062336</td>\n",
       "      <td>6.4</td>\n",
       "      <td>164</td>\n",
       "      <td>61116</td>\n",
       "      <td>tt0062336</td>\n",
       "      <td>The Tango of the Widower and Its Distorting Mi...</td>\n",
       "      <td>0</td>\n",
       "      <td>2020</td>\n",
       "      <td>70</td>\n",
       "      <td>Drama</td>\n",
       "      <td>768336</td>\n",
       "      <td>nm0815612</td>\n",
       "      <td>Rubén Sotoconil</td>\n",
       "    </tr>\n",
       "    <tr>\n",
       "      <th>3</th>\n",
       "      <td>522893</td>\n",
       "      <td>tt0062336</td>\n",
       "      <td>nm1860495</td>\n",
       "      <td>actress</td>\n",
       "      <td>40472</td>\n",
       "      <td>tt0062336</td>\n",
       "      <td>6.4</td>\n",
       "      <td>164</td>\n",
       "      <td>61116</td>\n",
       "      <td>tt0062336</td>\n",
       "      <td>The Tango of the Widower and Its Distorting Mi...</td>\n",
       "      <td>0</td>\n",
       "      <td>2020</td>\n",
       "      <td>70</td>\n",
       "      <td>Drama</td>\n",
       "      <td>5548814</td>\n",
       "      <td>nm1860495</td>\n",
       "      <td>Claudia Paz</td>\n",
       "    </tr>\n",
       "    <tr>\n",
       "      <th>4</th>\n",
       "      <td>522894</td>\n",
       "      <td>tt0062336</td>\n",
       "      <td>nm0016013</td>\n",
       "      <td>actor</td>\n",
       "      <td>40472</td>\n",
       "      <td>tt0062336</td>\n",
       "      <td>6.4</td>\n",
       "      <td>164</td>\n",
       "      <td>61116</td>\n",
       "      <td>tt0062336</td>\n",
       "      <td>The Tango of the Widower and Its Distorting Mi...</td>\n",
       "      <td>0</td>\n",
       "      <td>2020</td>\n",
       "      <td>70</td>\n",
       "      <td>Drama</td>\n",
       "      <td>15516</td>\n",
       "      <td>nm0016013</td>\n",
       "      <td>Luis Alarcón</td>\n",
       "    </tr>\n",
       "  </tbody>\n",
       "</table>\n",
       "</div>"
      ],
      "text/plain": [
       "   Unnamed: 0     tconst     nconst  category  Unnamed: 0     tconst  \\\n",
       "0       92759  tt0013274  nm0412842  director        3469  tt0013274   \n",
       "1       92760  tt0013274  nm0895048  director        3469  tt0013274   \n",
       "2      522892  tt0062336  nm0815612     actor       40472  tt0062336   \n",
       "3      522893  tt0062336  nm1860495   actress       40472  tt0062336   \n",
       "4      522894  tt0062336  nm0016013     actor       40472  tt0062336   \n",
       "\n",
       "   averageRating  numVotes  Unnamed: 0     tconst  \\\n",
       "0            6.7        48       13082  tt0013274   \n",
       "1            6.7        48       13082  tt0013274   \n",
       "2            6.4       164       61116  tt0062336   \n",
       "3            6.4       164       61116  tt0062336   \n",
       "4            6.4       164       61116  tt0062336   \n",
       "\n",
       "                                        primaryTitle  isAdult  startYear  \\\n",
       "0                        Istoriya grazhdanskoy voyny        0       2021   \n",
       "1                        Istoriya grazhdanskoy voyny        0       2021   \n",
       "2  The Tango of the Widower and Its Distorting Mi...        0       2020   \n",
       "3  The Tango of the Widower and Its Distorting Mi...        0       2020   \n",
       "4  The Tango of the Widower and Its Distorting Mi...        0       2020   \n",
       "\n",
       "  runtimeMinutes       genres  Unnamed: 0     nconst      primaryName  \n",
       "0            133  Documentary      390598  nm0412842  Nikolai Izvolov  \n",
       "1            133  Documentary      842504  nm0895048     Dziga Vertov  \n",
       "2             70        Drama      768336  nm0815612  Rubén Sotoconil  \n",
       "3             70        Drama     5548814  nm1860495      Claudia Paz  \n",
       "4             70        Drama       15516  nm0016013     Luis Alarcón  "
      ]
     },
     "execution_count": 14,
     "metadata": {},
     "output_type": "execute_result"
    }
   ],
   "source": [
    "import sqlite3\n",
    "\n",
    "# Connect to the database\n",
    "conn = sqlite3.connect('imdb.db')\n",
    "\n",
    "# Create a cursor object\n",
    "cursor = conn.cursor()\n",
    "\n",
    "# Define the SQL query to join the tables\n",
    "query = \"\"\"\n",
    "    SELECT *\n",
    "    FROM principals\n",
    "    JOIN ratings ON principals.tconst = ratings.tconst\n",
    "    JOIN basics ON principals.tconst = basics.tconst\n",
    "    JOIN name ON principals.nconst = name.nconst;\n",
    "\"\"\"\n",
    "\n",
    "# Execute the query and fetch the results\n",
    "cursor.execute(query)\n",
    "\n",
    "imdb = pd.read_sql_query(query,conn)\n",
    "imdb.head()\n"
   ]
  },
  {
   "cell_type": "code",
   "execution_count": 15,
   "id": "b62bf958",
   "metadata": {},
   "outputs": [
    {
     "data": {
      "text/html": [
       "<div>\n",
       "<style scoped>\n",
       "    .dataframe tbody tr th:only-of-type {\n",
       "        vertical-align: middle;\n",
       "    }\n",
       "\n",
       "    .dataframe tbody tr th {\n",
       "        vertical-align: top;\n",
       "    }\n",
       "\n",
       "    .dataframe thead th {\n",
       "        text-align: right;\n",
       "    }\n",
       "</style>\n",
       "<table border=\"1\" class=\"dataframe\">\n",
       "  <thead>\n",
       "    <tr style=\"text-align: right;\">\n",
       "      <th></th>\n",
       "      <th>Unnamed: 0</th>\n",
       "      <th>tconst</th>\n",
       "      <th>nconst</th>\n",
       "      <th>category</th>\n",
       "      <th>averageRating</th>\n",
       "      <th>numVotes</th>\n",
       "      <th>primaryTitle</th>\n",
       "      <th>isAdult</th>\n",
       "      <th>startYear</th>\n",
       "      <th>runtimeMinutes</th>\n",
       "      <th>genres</th>\n",
       "      <th>primaryName</th>\n",
       "    </tr>\n",
       "  </thead>\n",
       "  <tbody>\n",
       "    <tr>\n",
       "      <th>0</th>\n",
       "      <td>92759</td>\n",
       "      <td>tt0013274</td>\n",
       "      <td>nm0412842</td>\n",
       "      <td>director</td>\n",
       "      <td>6.7</td>\n",
       "      <td>48</td>\n",
       "      <td>Istoriya grazhdanskoy voyny</td>\n",
       "      <td>0</td>\n",
       "      <td>2021</td>\n",
       "      <td>133</td>\n",
       "      <td>Documentary</td>\n",
       "      <td>Nikolai Izvolov</td>\n",
       "    </tr>\n",
       "    <tr>\n",
       "      <th>1</th>\n",
       "      <td>92760</td>\n",
       "      <td>tt0013274</td>\n",
       "      <td>nm0895048</td>\n",
       "      <td>director</td>\n",
       "      <td>6.7</td>\n",
       "      <td>48</td>\n",
       "      <td>Istoriya grazhdanskoy voyny</td>\n",
       "      <td>0</td>\n",
       "      <td>2021</td>\n",
       "      <td>133</td>\n",
       "      <td>Documentary</td>\n",
       "      <td>Dziga Vertov</td>\n",
       "    </tr>\n",
       "    <tr>\n",
       "      <th>2</th>\n",
       "      <td>522892</td>\n",
       "      <td>tt0062336</td>\n",
       "      <td>nm0815612</td>\n",
       "      <td>actor</td>\n",
       "      <td>6.4</td>\n",
       "      <td>164</td>\n",
       "      <td>The Tango of the Widower and Its Distorting Mi...</td>\n",
       "      <td>0</td>\n",
       "      <td>2020</td>\n",
       "      <td>70</td>\n",
       "      <td>Drama</td>\n",
       "      <td>Rubén Sotoconil</td>\n",
       "    </tr>\n",
       "    <tr>\n",
       "      <th>3</th>\n",
       "      <td>522893</td>\n",
       "      <td>tt0062336</td>\n",
       "      <td>nm1860495</td>\n",
       "      <td>actress</td>\n",
       "      <td>6.4</td>\n",
       "      <td>164</td>\n",
       "      <td>The Tango of the Widower and Its Distorting Mi...</td>\n",
       "      <td>0</td>\n",
       "      <td>2020</td>\n",
       "      <td>70</td>\n",
       "      <td>Drama</td>\n",
       "      <td>Claudia Paz</td>\n",
       "    </tr>\n",
       "    <tr>\n",
       "      <th>4</th>\n",
       "      <td>522894</td>\n",
       "      <td>tt0062336</td>\n",
       "      <td>nm0016013</td>\n",
       "      <td>actor</td>\n",
       "      <td>6.4</td>\n",
       "      <td>164</td>\n",
       "      <td>The Tango of the Widower and Its Distorting Mi...</td>\n",
       "      <td>0</td>\n",
       "      <td>2020</td>\n",
       "      <td>70</td>\n",
       "      <td>Drama</td>\n",
       "      <td>Luis Alarcón</td>\n",
       "    </tr>\n",
       "  </tbody>\n",
       "</table>\n",
       "</div>"
      ],
      "text/plain": [
       "   Unnamed: 0     tconst     nconst  category  averageRating  numVotes  \\\n",
       "0       92759  tt0013274  nm0412842  director            6.7        48   \n",
       "1       92760  tt0013274  nm0895048  director            6.7        48   \n",
       "2      522892  tt0062336  nm0815612     actor            6.4       164   \n",
       "3      522893  tt0062336  nm1860495   actress            6.4       164   \n",
       "4      522894  tt0062336  nm0016013     actor            6.4       164   \n",
       "\n",
       "                                        primaryTitle  isAdult  startYear  \\\n",
       "0                        Istoriya grazhdanskoy voyny        0       2021   \n",
       "1                        Istoriya grazhdanskoy voyny        0       2021   \n",
       "2  The Tango of the Widower and Its Distorting Mi...        0       2020   \n",
       "3  The Tango of the Widower and Its Distorting Mi...        0       2020   \n",
       "4  The Tango of the Widower and Its Distorting Mi...        0       2020   \n",
       "\n",
       "  runtimeMinutes       genres      primaryName  \n",
       "0            133  Documentary  Nikolai Izvolov  \n",
       "1            133  Documentary     Dziga Vertov  \n",
       "2             70        Drama  Rubén Sotoconil  \n",
       "3             70        Drama      Claudia Paz  \n",
       "4             70        Drama     Luis Alarcón  "
      ]
     },
     "execution_count": 15,
     "metadata": {},
     "output_type": "execute_result"
    }
   ],
   "source": [
    "imdb = imdb.loc[:, ~imdb.columns.duplicated()]\n",
    "imdb.head()"
   ]
  },
  {
   "cell_type": "code",
   "execution_count": 16,
   "id": "f11d54ae",
   "metadata": {},
   "outputs": [],
   "source": [
    "imdb1=imdb.copy()"
   ]
  },
  {
   "cell_type": "code",
   "execution_count": 17,
   "id": "28a9ccf2",
   "metadata": {},
   "outputs": [],
   "source": [
    "imdb.to_csv('imdb.csv', index=False)"
   ]
  },
  {
   "cell_type": "code",
   "execution_count": 18,
   "id": "a4754b0b",
   "metadata": {},
   "outputs": [
    {
     "data": {
      "text/plain": [
       "(404315, 12)"
      ]
     },
     "execution_count": 18,
     "metadata": {},
     "output_type": "execute_result"
    }
   ],
   "source": [
    "imdb.shape"
   ]
  },
  {
   "cell_type": "code",
   "execution_count": 19,
   "id": "6d2d1079",
   "metadata": {},
   "outputs": [
    {
     "data": {
      "text/plain": [
       "404315"
      ]
     },
     "execution_count": 19,
     "metadata": {},
     "output_type": "execute_result"
    }
   ],
   "source": [
    "imdb.to_sql(\"imdb\", conn, index = False,if_exists = 'replace')"
   ]
  },
  {
   "cell_type": "code",
   "execution_count": 20,
   "id": "edf53da0",
   "metadata": {},
   "outputs": [],
   "source": [
    "conn.close()"
   ]
  }
 ],
 "metadata": {
  "kernelspec": {
   "display_name": "Python 3 (ipykernel)",
   "language": "python",
   "name": "python3"
  },
  "language_info": {
   "codemirror_mode": {
    "name": "ipython",
    "version": 3
   },
   "file_extension": ".py",
   "mimetype": "text/x-python",
   "name": "python",
   "nbconvert_exporter": "python",
   "pygments_lexer": "ipython3",
   "version": "3.8.16"
  }
 },
 "nbformat": 4,
 "nbformat_minor": 5
}
